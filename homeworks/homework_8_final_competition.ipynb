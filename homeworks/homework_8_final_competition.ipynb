{
 "cells": [
  {
   "cell_type": "code",
   "execution_count": 97,
   "id": "numeric-honduras",
   "metadata": {},
   "outputs": [],
   "source": [
    "import pandas as pd\n",
    "import numpy as np\n",
    "import matplotlib.pyplot as plt\n",
    "import seaborn as sns\n",
    "\n",
    "import json\n",
    "import re\n",
    "\n",
    "from sklearn.preprocessing import StandardScaler, PolynomialFeatures\n",
    "from sklearn.metrics import f1_score, plot_confusion_matrix\n",
    "from sklearn.model_selection import RepeatedStratifiedKFold, GridSearchCV, RandomizedSearchCV, train_test_split, cross_val_score\n",
    "from sklearn.linear_model import SGDClassifier, LogisticRegression\n",
    "from sklearn.neighbors import KNeighborsClassifier\n",
    "from sklearn.feature_selection import SelectFromModel\n",
    "from sklearn.ensemble import RandomForestClassifier\n",
    "from sklearn.pipeline import Pipeline\n",
    "\n",
    "from sklearn import tree\n",
    "\n",
    "from imblearn.over_sampling import RandomOverSampler"
   ]
  },
  {
   "cell_type": "code",
   "execution_count": 2,
   "id": "supported-bumper",
   "metadata": {},
   "outputs": [],
   "source": [
    "# to look at all columns of data\n",
    "pd.options.display.max_columns = None"
   ]
  },
  {
   "cell_type": "code",
   "execution_count": 3,
   "id": "polar-polyester",
   "metadata": {},
   "outputs": [
    {
     "data": {
      "text/html": [
       "<div>\n",
       "<style scoped>\n",
       "    .dataframe tbody tr th:only-of-type {\n",
       "        vertical-align: middle;\n",
       "    }\n",
       "\n",
       "    .dataframe tbody tr th {\n",
       "        vertical-align: top;\n",
       "    }\n",
       "\n",
       "    .dataframe thead th {\n",
       "        text-align: right;\n",
       "    }\n",
       "</style>\n",
       "<table border=\"1\" class=\"dataframe\">\n",
       "  <thead>\n",
       "    <tr style=\"text-align: right;\">\n",
       "      <th></th>\n",
       "      <th>createdDate</th>\n",
       "      <th>updatedDate</th>\n",
       "      <th>isExpelled</th>\n",
       "      <th>expellingReason</th>\n",
       "      <th>courseCompleted</th>\n",
       "      <th>isTopPerformer</th>\n",
       "      <th>preferedMentorGithubId</th>\n",
       "      <th>readyFullTime</th>\n",
       "      <th>courseId</th>\n",
       "      <th>userId</th>\n",
       "      <th>mentorId</th>\n",
       "      <th>cvUrl</th>\n",
       "      <th>hiredById</th>\n",
       "      <th>hiredByName</th>\n",
       "      <th>isFailed</th>\n",
       "      <th>startDate</th>\n",
       "      <th>endDate</th>\n",
       "      <th>repository</th>\n",
       "      <th>repositoryLastActivityDate</th>\n",
       "      <th>idUser</th>\n",
       "      <th>educationHistory</th>\n",
       "      <th>englishLevel</th>\n",
       "    </tr>\n",
       "    <tr>\n",
       "      <th>studentId</th>\n",
       "      <th></th>\n",
       "      <th></th>\n",
       "      <th></th>\n",
       "      <th></th>\n",
       "      <th></th>\n",
       "      <th></th>\n",
       "      <th></th>\n",
       "      <th></th>\n",
       "      <th></th>\n",
       "      <th></th>\n",
       "      <th></th>\n",
       "      <th></th>\n",
       "      <th></th>\n",
       "      <th></th>\n",
       "      <th></th>\n",
       "      <th></th>\n",
       "      <th></th>\n",
       "      <th></th>\n",
       "      <th></th>\n",
       "      <th></th>\n",
       "      <th></th>\n",
       "      <th></th>\n",
       "    </tr>\n",
       "  </thead>\n",
       "  <tbody>\n",
       "    <tr>\n",
       "      <th>5740</th>\n",
       "      <td>2019-09-06 17:30:17.681556</td>\n",
       "      <td>2019-12-03 16:24:58.705742</td>\n",
       "      <td>t</td>\n",
       "      <td>No activity in private repository</td>\n",
       "      <td>f</td>\n",
       "      <td>True</td>\n",
       "      <td>NaN</td>\n",
       "      <td>NaN</td>\n",
       "      <td>11</td>\n",
       "      <td>4467</td>\n",
       "      <td>647.0</td>\n",
       "      <td>NaN</td>\n",
       "      <td>NaN</td>\n",
       "      <td>NaN</td>\n",
       "      <td>f</td>\n",
       "      <td>2019-09-09 07:35:20.981+00</td>\n",
       "      <td>2019-12-04 09:17:02.998689+00</td>\n",
       "      <td>https://github.com/rolling-scopes-school/1b3f6...</td>\n",
       "      <td>NaN</td>\n",
       "      <td>4467</td>\n",
       "      <td>[]</td>\n",
       "      <td>NaN</td>\n",
       "    </tr>\n",
       "    <tr>\n",
       "      <th>6956</th>\n",
       "      <td>2019-09-09 18:24:04.90096</td>\n",
       "      <td>2019-11-20 22:00:13.036321</td>\n",
       "      <td>t</td>\n",
       "      <td>No activity in private repository</td>\n",
       "      <td>f</td>\n",
       "      <td>True</td>\n",
       "      <td>NaN</td>\n",
       "      <td>NaN</td>\n",
       "      <td>11</td>\n",
       "      <td>5580</td>\n",
       "      <td>795.0</td>\n",
       "      <td>NaN</td>\n",
       "      <td>NaN</td>\n",
       "      <td>NaN</td>\n",
       "      <td>f</td>\n",
       "      <td>2019-09-09 07:35:20.981+00</td>\n",
       "      <td>2019-12-04 09:17:02.998689+00</td>\n",
       "      <td>https://github.com/rolling-scopes-school/76c0e...</td>\n",
       "      <td>NaN</td>\n",
       "      <td>5580</td>\n",
       "      <td>[]</td>\n",
       "      <td>NaN</td>\n",
       "    </tr>\n",
       "    <tr>\n",
       "      <th>11616</th>\n",
       "      <td>2020-02-05 12:39:48.166948</td>\n",
       "      <td>2020-02-05 12:39:48.166948</td>\n",
       "      <td>f</td>\n",
       "      <td>NaN</td>\n",
       "      <td>f</td>\n",
       "      <td>False</td>\n",
       "      <td>NaN</td>\n",
       "      <td>NaN</td>\n",
       "      <td>16</td>\n",
       "      <td>9557</td>\n",
       "      <td>NaN</td>\n",
       "      <td>NaN</td>\n",
       "      <td>NaN</td>\n",
       "      <td>NaN</td>\n",
       "      <td>f</td>\n",
       "      <td>2020-02-05 12:39:48.164+00</td>\n",
       "      <td>NaN</td>\n",
       "      <td>NaN</td>\n",
       "      <td>NaN</td>\n",
       "      <td>9557</td>\n",
       "      <td>[]</td>\n",
       "      <td>NaN</td>\n",
       "    </tr>\n",
       "    <tr>\n",
       "      <th>11773</th>\n",
       "      <td>2020-02-05 17:16:46.874484</td>\n",
       "      <td>2020-02-05 17:16:46.874484</td>\n",
       "      <td>f</td>\n",
       "      <td>NaN</td>\n",
       "      <td>f</td>\n",
       "      <td>False</td>\n",
       "      <td>NaN</td>\n",
       "      <td>NaN</td>\n",
       "      <td>16</td>\n",
       "      <td>9627</td>\n",
       "      <td>NaN</td>\n",
       "      <td>NaN</td>\n",
       "      <td>NaN</td>\n",
       "      <td>NaN</td>\n",
       "      <td>f</td>\n",
       "      <td>2020-02-05 17:16:46.872+00</td>\n",
       "      <td>NaN</td>\n",
       "      <td>NaN</td>\n",
       "      <td>NaN</td>\n",
       "      <td>9627</td>\n",
       "      <td>[{\"graduationYear\":null,\"faculty\":null,\"univer...</td>\n",
       "      <td>b1</td>\n",
       "    </tr>\n",
       "    <tr>\n",
       "      <th>6724</th>\n",
       "      <td>2019-09-09 17:06:56.967084</td>\n",
       "      <td>2020-01-19 16:55:12.069984</td>\n",
       "      <td>t</td>\n",
       "      <td>Failed Stage 2</td>\n",
       "      <td>f</td>\n",
       "      <td>True</td>\n",
       "      <td>NaN</td>\n",
       "      <td>NaN</td>\n",
       "      <td>11</td>\n",
       "      <td>5390</td>\n",
       "      <td>928.0</td>\n",
       "      <td>NaN</td>\n",
       "      <td>NaN</td>\n",
       "      <td>NaN</td>\n",
       "      <td>f</td>\n",
       "      <td>2019-09-09 07:35:20.981+00</td>\n",
       "      <td>1970-01-01 00:00:00+00</td>\n",
       "      <td>https://github.com/rolling-scopes-school/7fb23...</td>\n",
       "      <td>NaN</td>\n",
       "      <td>5390</td>\n",
       "      <td>[]</td>\n",
       "      <td>NaN</td>\n",
       "    </tr>\n",
       "  </tbody>\n",
       "</table>\n",
       "</div>"
      ],
      "text/plain": [
       "                          createdDate                 updatedDate isExpelled  \\\n",
       "studentId                                                                      \n",
       "5740       2019-09-06 17:30:17.681556  2019-12-03 16:24:58.705742          t   \n",
       "6956        2019-09-09 18:24:04.90096  2019-11-20 22:00:13.036321          t   \n",
       "11616      2020-02-05 12:39:48.166948  2020-02-05 12:39:48.166948          f   \n",
       "11773      2020-02-05 17:16:46.874484  2020-02-05 17:16:46.874484          f   \n",
       "6724       2019-09-09 17:06:56.967084  2020-01-19 16:55:12.069984          t   \n",
       "\n",
       "                             expellingReason courseCompleted  isTopPerformer  \\\n",
       "studentId                                                                      \n",
       "5740       No activity in private repository               f            True   \n",
       "6956       No activity in private repository               f            True   \n",
       "11616                                    NaN               f           False   \n",
       "11773                                    NaN               f           False   \n",
       "6724                          Failed Stage 2               f            True   \n",
       "\n",
       "           preferedMentorGithubId readyFullTime  courseId  userId  mentorId  \\\n",
       "studentId                                                                     \n",
       "5740                          NaN           NaN        11    4467     647.0   \n",
       "6956                          NaN           NaN        11    5580     795.0   \n",
       "11616                         NaN           NaN        16    9557       NaN   \n",
       "11773                         NaN           NaN        16    9627       NaN   \n",
       "6724                          NaN           NaN        11    5390     928.0   \n",
       "\n",
       "           cvUrl  hiredById  hiredByName isFailed                   startDate  \\\n",
       "studentId                                                                       \n",
       "5740         NaN        NaN          NaN        f  2019-09-09 07:35:20.981+00   \n",
       "6956         NaN        NaN          NaN        f  2019-09-09 07:35:20.981+00   \n",
       "11616        NaN        NaN          NaN        f  2020-02-05 12:39:48.164+00   \n",
       "11773        NaN        NaN          NaN        f  2020-02-05 17:16:46.872+00   \n",
       "6724         NaN        NaN          NaN        f  2019-09-09 07:35:20.981+00   \n",
       "\n",
       "                                 endDate  \\\n",
       "studentId                                  \n",
       "5740       2019-12-04 09:17:02.998689+00   \n",
       "6956       2019-12-04 09:17:02.998689+00   \n",
       "11616                                NaN   \n",
       "11773                                NaN   \n",
       "6724              1970-01-01 00:00:00+00   \n",
       "\n",
       "                                                  repository  \\\n",
       "studentId                                                      \n",
       "5740       https://github.com/rolling-scopes-school/1b3f6...   \n",
       "6956       https://github.com/rolling-scopes-school/76c0e...   \n",
       "11616                                                    NaN   \n",
       "11773                                                    NaN   \n",
       "6724       https://github.com/rolling-scopes-school/7fb23...   \n",
       "\n",
       "          repositoryLastActivityDate  idUser  \\\n",
       "studentId                                      \n",
       "5740                             NaN    4467   \n",
       "6956                             NaN    5580   \n",
       "11616                            NaN    9557   \n",
       "11773                            NaN    9627   \n",
       "6724                             NaN    5390   \n",
       "\n",
       "                                            educationHistory englishLevel  \n",
       "studentId                                                                  \n",
       "5740                                                      []          NaN  \n",
       "6956                                                      []          NaN  \n",
       "11616                                                     []          NaN  \n",
       "11773      [{\"graduationYear\":null,\"faculty\":null,\"univer...           b1  \n",
       "6724                                                      []          NaN  "
      ]
     },
     "execution_count": 3,
     "metadata": {},
     "output_type": "execute_result"
    }
   ],
   "source": [
    "train_data = pd.read_csv('data/train.csv', index_col='studentId')\n",
    "test_data = pd.read_csv('data/test.csv', index_col='studentId')\n",
    "whole_data = pd.concat([train_data, test_data])\n",
    "train_data.head()"
   ]
  },
  {
   "cell_type": "markdown",
   "id": "environmental-court",
   "metadata": {},
   "source": [
    "check that this is same field (idUser and userId)"
   ]
  },
  {
   "cell_type": "code",
   "execution_count": 4,
   "id": "limiting-runner",
   "metadata": {},
   "outputs": [
    {
     "data": {
      "text/plain": [
       "0"
      ]
     },
     "execution_count": 4,
     "metadata": {},
     "output_type": "execute_result"
    }
   ],
   "source": [
    "(~train_data['userId'] == train_data['idUser']).sum()"
   ]
  },
  {
   "cell_type": "code",
   "execution_count": 5,
   "id": "frozen-mathematics",
   "metadata": {},
   "outputs": [
    {
     "data": {
      "text/plain": [
       "0"
      ]
     },
     "execution_count": 5,
     "metadata": {},
     "output_type": "execute_result"
    }
   ],
   "source": [
    "(~test_data['userId'] == test_data['idUser']).sum()"
   ]
  },
  {
   "cell_type": "markdown",
   "id": "joined-wallpaper",
   "metadata": {},
   "source": [
    "check that train and test have no intersection"
   ]
  },
  {
   "cell_type": "code",
   "execution_count": 6,
   "id": "upset-granny",
   "metadata": {},
   "outputs": [
    {
     "data": {
      "text/plain": [
       "(0, 43)"
      ]
     },
     "execution_count": 6,
     "metadata": {},
     "output_type": "execute_result"
    }
   ],
   "source": [
    "train_data.join(test_data, rsuffix='_test', how='inner').shape"
   ]
  },
  {
   "cell_type": "code",
   "execution_count": 7,
   "id": "completed-universal",
   "metadata": {},
   "outputs": [
    {
     "name": "stdout",
     "output_type": "stream",
     "text": [
      "<class 'pandas.core.frame.DataFrame'>\n",
      "Int64Index: 10471 entries, 5740 to 12852\n",
      "Data columns (total 22 columns):\n",
      " #   Column                      Non-Null Count  Dtype  \n",
      "---  ------                      --------------  -----  \n",
      " 0   createdDate                 10471 non-null  object \n",
      " 1   updatedDate                 10471 non-null  object \n",
      " 2   isExpelled                  10471 non-null  object \n",
      " 3   expellingReason             5460 non-null   object \n",
      " 4   courseCompleted             10471 non-null  object \n",
      " 5   isTopPerformer              10471 non-null  bool   \n",
      " 6   preferedMentorGithubId      0 non-null      float64\n",
      " 7   readyFullTime               1 non-null      object \n",
      " 8   courseId                    10471 non-null  int64  \n",
      " 9   userId                      10471 non-null  int64  \n",
      " 10  mentorId                    2609 non-null   float64\n",
      " 11  cvUrl                       0 non-null      float64\n",
      " 12  hiredById                   0 non-null      float64\n",
      " 13  hiredByName                 0 non-null      float64\n",
      " 14  isFailed                    10471 non-null  object \n",
      " 15  startDate                   10471 non-null  object \n",
      " 16  endDate                     9032 non-null   object \n",
      " 17  repository                  1510 non-null   object \n",
      " 18  repositoryLastActivityDate  371 non-null    object \n",
      " 19  idUser                      10471 non-null  int64  \n",
      " 20  educationHistory            10471 non-null  object \n",
      " 21  englishLevel                5412 non-null   object \n",
      "dtypes: bool(1), float64(5), int64(3), object(13)\n",
      "memory usage: 2.0+ MB\n"
     ]
    }
   ],
   "source": [
    "train_data.info()"
   ]
  },
  {
   "cell_type": "code",
   "execution_count": 8,
   "id": "super-music",
   "metadata": {},
   "outputs": [
    {
     "data": {
      "text/html": [
       "<div>\n",
       "<style scoped>\n",
       "    .dataframe tbody tr th:only-of-type {\n",
       "        vertical-align: middle;\n",
       "    }\n",
       "\n",
       "    .dataframe tbody tr th {\n",
       "        vertical-align: top;\n",
       "    }\n",
       "\n",
       "    .dataframe thead th {\n",
       "        text-align: right;\n",
       "    }\n",
       "</style>\n",
       "<table border=\"1\" class=\"dataframe\">\n",
       "  <thead>\n",
       "    <tr style=\"text-align: right;\">\n",
       "      <th></th>\n",
       "      <th>train_na_sum</th>\n",
       "      <th>test_na_sum</th>\n",
       "    </tr>\n",
       "  </thead>\n",
       "  <tbody>\n",
       "    <tr>\n",
       "      <th>createdDate</th>\n",
       "      <td>0</td>\n",
       "      <td>0.0</td>\n",
       "    </tr>\n",
       "    <tr>\n",
       "      <th>updatedDate</th>\n",
       "      <td>0</td>\n",
       "      <td>0.0</td>\n",
       "    </tr>\n",
       "    <tr>\n",
       "      <th>isExpelled</th>\n",
       "      <td>0</td>\n",
       "      <td>0.0</td>\n",
       "    </tr>\n",
       "    <tr>\n",
       "      <th>expellingReason</th>\n",
       "      <td>5011</td>\n",
       "      <td>2991.0</td>\n",
       "    </tr>\n",
       "    <tr>\n",
       "      <th>courseCompleted</th>\n",
       "      <td>0</td>\n",
       "      <td>0.0</td>\n",
       "    </tr>\n",
       "    <tr>\n",
       "      <th>isTopPerformer</th>\n",
       "      <td>0</td>\n",
       "      <td>NaN</td>\n",
       "    </tr>\n",
       "    <tr>\n",
       "      <th>preferedMentorGithubId</th>\n",
       "      <td>10471</td>\n",
       "      <td>2991.0</td>\n",
       "    </tr>\n",
       "    <tr>\n",
       "      <th>readyFullTime</th>\n",
       "      <td>10470</td>\n",
       "      <td>2991.0</td>\n",
       "    </tr>\n",
       "    <tr>\n",
       "      <th>courseId</th>\n",
       "      <td>0</td>\n",
       "      <td>0.0</td>\n",
       "    </tr>\n",
       "    <tr>\n",
       "      <th>userId</th>\n",
       "      <td>0</td>\n",
       "      <td>0.0</td>\n",
       "    </tr>\n",
       "    <tr>\n",
       "      <th>mentorId</th>\n",
       "      <td>7862</td>\n",
       "      <td>2524.0</td>\n",
       "    </tr>\n",
       "    <tr>\n",
       "      <th>cvUrl</th>\n",
       "      <td>10471</td>\n",
       "      <td>2991.0</td>\n",
       "    </tr>\n",
       "    <tr>\n",
       "      <th>hiredById</th>\n",
       "      <td>10471</td>\n",
       "      <td>2991.0</td>\n",
       "    </tr>\n",
       "    <tr>\n",
       "      <th>hiredByName</th>\n",
       "      <td>10471</td>\n",
       "      <td>2991.0</td>\n",
       "    </tr>\n",
       "    <tr>\n",
       "      <th>isFailed</th>\n",
       "      <td>0</td>\n",
       "      <td>0.0</td>\n",
       "    </tr>\n",
       "    <tr>\n",
       "      <th>startDate</th>\n",
       "      <td>0</td>\n",
       "      <td>0.0</td>\n",
       "    </tr>\n",
       "    <tr>\n",
       "      <th>endDate</th>\n",
       "      <td>1439</td>\n",
       "      <td>2991.0</td>\n",
       "    </tr>\n",
       "    <tr>\n",
       "      <th>repository</th>\n",
       "      <td>8961</td>\n",
       "      <td>2704.0</td>\n",
       "    </tr>\n",
       "    <tr>\n",
       "      <th>repositoryLastActivityDate</th>\n",
       "      <td>10100</td>\n",
       "      <td>2913.0</td>\n",
       "    </tr>\n",
       "    <tr>\n",
       "      <th>idUser</th>\n",
       "      <td>0</td>\n",
       "      <td>0.0</td>\n",
       "    </tr>\n",
       "    <tr>\n",
       "      <th>educationHistory</th>\n",
       "      <td>0</td>\n",
       "      <td>0.0</td>\n",
       "    </tr>\n",
       "    <tr>\n",
       "      <th>englishLevel</th>\n",
       "      <td>5059</td>\n",
       "      <td>1496.0</td>\n",
       "    </tr>\n",
       "  </tbody>\n",
       "</table>\n",
       "</div>"
      ],
      "text/plain": [
       "                            train_na_sum  test_na_sum\n",
       "createdDate                            0          0.0\n",
       "updatedDate                            0          0.0\n",
       "isExpelled                             0          0.0\n",
       "expellingReason                     5011       2991.0\n",
       "courseCompleted                        0          0.0\n",
       "isTopPerformer                         0          NaN\n",
       "preferedMentorGithubId             10471       2991.0\n",
       "readyFullTime                      10470       2991.0\n",
       "courseId                               0          0.0\n",
       "userId                                 0          0.0\n",
       "mentorId                            7862       2524.0\n",
       "cvUrl                              10471       2991.0\n",
       "hiredById                          10471       2991.0\n",
       "hiredByName                        10471       2991.0\n",
       "isFailed                               0          0.0\n",
       "startDate                              0          0.0\n",
       "endDate                             1439       2991.0\n",
       "repository                          8961       2704.0\n",
       "repositoryLastActivityDate         10100       2913.0\n",
       "idUser                                 0          0.0\n",
       "educationHistory                       0          0.0\n",
       "englishLevel                        5059       1496.0"
      ]
     },
     "execution_count": 8,
     "metadata": {},
     "output_type": "execute_result"
    }
   ],
   "source": [
    "pd.concat([train_data.isna().sum().rename('train_na_sum'), test_data.isna().sum().rename('test_na_sum')], axis=1)"
   ]
  },
  {
   "cell_type": "code",
   "execution_count": 9,
   "id": "unlikely-picture",
   "metadata": {},
   "outputs": [],
   "source": [
    "def extract_englishlevel(data):\n",
    "    rename_english_levels = \\\n",
    "                 {'elementary' : 'a1',\n",
    "                  'intermidiate' : 'a1',\n",
    "                  'pre-intermediate' : 'a2',\n",
    "                  'pre-intermedia': 'a1',\n",
    "                  'pre intermediate': 'a1', \n",
    "                  'intermediate' : 'b1',\n",
    "                  'intermediate(b1)' : 'b1',\n",
    "                  'upper-intermediate' : 'b2',\n",
    "                  'up-intermediate' : 'b2',\n",
    "                  'upper' : 'b2',\n",
    "                  'advanced' : 'c1'}\n",
    "\n",
    "    english_level = data['englishLevel'].str.strip().str.lower().str.split().str[0].replace(rename_english_levels)\n",
    "    english_level = english_level.str.extract(r'(a0|a1|a2|b1|b2|c1|c2)\\+?\\-?/?~?')\n",
    "    english_level.fillna('isna', inplace=True)\n",
    "    return english_level"
   ]
  },
  {
   "cell_type": "code",
   "execution_count": 10,
   "id": "inside-drain",
   "metadata": {},
   "outputs": [],
   "source": [
    "def get_size_of_course(whole_data):\n",
    "    return whole_data.join(whole_data.groupby(by='courseId').size().rename('size_of_course'), on='courseId')['size_of_course']"
   ]
  },
  {
   "cell_type": "code",
   "execution_count": 11,
   "id": "cosmetic-paragraph",
   "metadata": {},
   "outputs": [],
   "source": [
    "def get_student_scores(whole_data, task_results_data):\n",
    "    return whole_data.join(task_results_data.groupby(by='studentId')['score'].sum().rename('sum_of_scores'), on='studentId')['sum_of_scores'].fillna(0)"
   ]
  },
  {
   "cell_type": "code",
   "execution_count": 12,
   "id": "applied-grenada",
   "metadata": {},
   "outputs": [
    {
     "data": {
      "text/html": [
       "<div>\n",
       "<style scoped>\n",
       "    .dataframe tbody tr th:only-of-type {\n",
       "        vertical-align: middle;\n",
       "    }\n",
       "\n",
       "    .dataframe tbody tr th {\n",
       "        vertical-align: top;\n",
       "    }\n",
       "\n",
       "    .dataframe thead th {\n",
       "        text-align: right;\n",
       "    }\n",
       "</style>\n",
       "<table border=\"1\" class=\"dataframe\">\n",
       "  <thead>\n",
       "    <tr style=\"text-align: right;\">\n",
       "      <th></th>\n",
       "      <th>createdDate</th>\n",
       "      <th>updatedDate</th>\n",
       "      <th>score</th>\n",
       "      <th>comment</th>\n",
       "      <th>studentId</th>\n",
       "      <th>courseTaskId</th>\n",
       "      <th>historicalScores</th>\n",
       "      <th>juryScores</th>\n",
       "      <th>checkerId</th>\n",
       "      <th>anonymous</th>\n",
       "    </tr>\n",
       "  </thead>\n",
       "  <tbody>\n",
       "    <tr>\n",
       "      <th>0</th>\n",
       "      <td>2019-09-19 18:36:46.232791</td>\n",
       "      <td>2019-09-19 18:36:46.232791</td>\n",
       "      <td>100</td>\n",
       "      <td>NaN</td>\n",
       "      <td>7266</td>\n",
       "      <td>300</td>\n",
       "      <td>[{\"authorId\":0,\"score\":100,\"dateTime\":15689182...</td>\n",
       "      <td>[]</td>\n",
       "      <td>NaN</td>\n",
       "      <td>NaN</td>\n",
       "    </tr>\n",
       "    <tr>\n",
       "      <th>1</th>\n",
       "      <td>2019-10-02 12:48:27.977059</td>\n",
       "      <td>2019-10-21 09:58:59.674519</td>\n",
       "      <td>41</td>\n",
       "      <td>NaN</td>\n",
       "      <td>7929</td>\n",
       "      <td>313</td>\n",
       "      <td>[{\"authorId\":0,\"score\":38,\"dateTime\":157002050...</td>\n",
       "      <td>[]</td>\n",
       "      <td>NaN</td>\n",
       "      <td>NaN</td>\n",
       "    </tr>\n",
       "    <tr>\n",
       "      <th>2</th>\n",
       "      <td>2019-10-08 15:05:43.777805</td>\n",
       "      <td>2019-10-08 15:05:43.777805</td>\n",
       "      <td>100</td>\n",
       "      <td>NaN</td>\n",
       "      <td>6134</td>\n",
       "      <td>308</td>\n",
       "      <td>[{\"authorId\":0,\"score\":100,\"dateTime\":15705471...</td>\n",
       "      <td>[]</td>\n",
       "      <td>NaN</td>\n",
       "      <td>NaN</td>\n",
       "    </tr>\n",
       "    <tr>\n",
       "      <th>3</th>\n",
       "      <td>2019-10-11 15:03:28.245927</td>\n",
       "      <td>2019-10-11 15:03:28.245927</td>\n",
       "      <td>100</td>\n",
       "      <td>NaN</td>\n",
       "      <td>5882</td>\n",
       "      <td>305</td>\n",
       "      <td>[{\"authorId\":0,\"score\":100,\"dateTime\":15708062...</td>\n",
       "      <td>[]</td>\n",
       "      <td>NaN</td>\n",
       "      <td>NaN</td>\n",
       "    </tr>\n",
       "    <tr>\n",
       "      <th>4</th>\n",
       "      <td>2019-10-12 16:31:57.699719</td>\n",
       "      <td>2019-10-12 16:31:57.699719</td>\n",
       "      <td>100</td>\n",
       "      <td>NaN</td>\n",
       "      <td>8247</td>\n",
       "      <td>305</td>\n",
       "      <td>[{\"authorId\":0,\"score\":100,\"dateTime\":15708979...</td>\n",
       "      <td>[]</td>\n",
       "      <td>NaN</td>\n",
       "      <td>NaN</td>\n",
       "    </tr>\n",
       "  </tbody>\n",
       "</table>\n",
       "</div>"
      ],
      "text/plain": [
       "                  createdDate                 updatedDate  score comment  \\\n",
       "0  2019-09-19 18:36:46.232791  2019-09-19 18:36:46.232791    100     NaN   \n",
       "1  2019-10-02 12:48:27.977059  2019-10-21 09:58:59.674519     41     NaN   \n",
       "2  2019-10-08 15:05:43.777805  2019-10-08 15:05:43.777805    100     NaN   \n",
       "3  2019-10-11 15:03:28.245927  2019-10-11 15:03:28.245927    100     NaN   \n",
       "4  2019-10-12 16:31:57.699719  2019-10-12 16:31:57.699719    100     NaN   \n",
       "\n",
       "   studentId  courseTaskId                                   historicalScores  \\\n",
       "0       7266           300  [{\"authorId\":0,\"score\":100,\"dateTime\":15689182...   \n",
       "1       7929           313  [{\"authorId\":0,\"score\":38,\"dateTime\":157002050...   \n",
       "2       6134           308  [{\"authorId\":0,\"score\":100,\"dateTime\":15705471...   \n",
       "3       5882           305  [{\"authorId\":0,\"score\":100,\"dateTime\":15708062...   \n",
       "4       8247           305  [{\"authorId\":0,\"score\":100,\"dateTime\":15708979...   \n",
       "\n",
       "  juryScores  checkerId anonymous  \n",
       "0         []        NaN       NaN  \n",
       "1         []        NaN       NaN  \n",
       "2         []        NaN       NaN  \n",
       "3         []        NaN       NaN  \n",
       "4         []        NaN       NaN  "
      ]
     },
     "execution_count": 12,
     "metadata": {},
     "output_type": "execute_result"
    }
   ],
   "source": [
    "task_results_data = pd.read_csv('data/task_results.csv')\n",
    "task_results_data.head()"
   ]
  },
  {
   "cell_type": "code",
   "execution_count": 13,
   "id": "involved-repair",
   "metadata": {
    "scrolled": true
   },
   "outputs": [],
   "source": [
    "def get_jury_scores(whole_data, task_results_data):\n",
    "    jury_df = pd.DataFrame(index=whole_data.index, columns=['sum_of_jury_scores'])\n",
    "    \n",
    "    jury_scores = task_results_data[(task_results_data['juryScores'] != '[]') & (~task_results_data['juryScores'].isna())]['juryScores']\n",
    "    for it in jury_scores.iteritems():\n",
    "        index = it[0]            \n",
    "        scores_list = json.loads(it[1])\n",
    "        sum_of_scores = 0\n",
    "        for elem in scores_list:\n",
    "            sum_of_scores += elem['score']\n",
    "        jury_df.loc[index, 'sum_of_jury_scores'] = sum_of_scores\n",
    "\n",
    "    return jury_df"
   ]
  },
  {
   "cell_type": "code",
   "execution_count": 14,
   "id": "pretty-fever",
   "metadata": {},
   "outputs": [
    {
     "data": {
      "text/html": [
       "<div>\n",
       "<style scoped>\n",
       "    .dataframe tbody tr th:only-of-type {\n",
       "        vertical-align: middle;\n",
       "    }\n",
       "\n",
       "    .dataframe tbody tr th {\n",
       "        vertical-align: top;\n",
       "    }\n",
       "\n",
       "    .dataframe thead th {\n",
       "        text-align: right;\n",
       "    }\n",
       "</style>\n",
       "<table border=\"1\" class=\"dataframe\">\n",
       "  <thead>\n",
       "    <tr style=\"text-align: right;\">\n",
       "      <th></th>\n",
       "      <th>sum_of_jury_scores</th>\n",
       "    </tr>\n",
       "    <tr>\n",
       "      <th>studentId</th>\n",
       "      <th></th>\n",
       "    </tr>\n",
       "  </thead>\n",
       "  <tbody>\n",
       "    <tr>\n",
       "      <th>18199</th>\n",
       "      <td>72</td>\n",
       "    </tr>\n",
       "    <tr>\n",
       "      <th>19134</th>\n",
       "      <td>81</td>\n",
       "    </tr>\n",
       "    <tr>\n",
       "      <th>19293</th>\n",
       "      <td>73</td>\n",
       "    </tr>\n",
       "    <tr>\n",
       "      <th>19409</th>\n",
       "      <td>96</td>\n",
       "    </tr>\n",
       "    <tr>\n",
       "      <th>19432</th>\n",
       "      <td>120</td>\n",
       "    </tr>\n",
       "    <tr>\n",
       "      <th>...</th>\n",
       "      <td>...</td>\n",
       "    </tr>\n",
       "    <tr>\n",
       "      <th>72741</th>\n",
       "      <td>284</td>\n",
       "    </tr>\n",
       "    <tr>\n",
       "      <th>72973</th>\n",
       "      <td>440</td>\n",
       "    </tr>\n",
       "    <tr>\n",
       "      <th>73052</th>\n",
       "      <td>253</td>\n",
       "    </tr>\n",
       "    <tr>\n",
       "      <th>73053</th>\n",
       "      <td>322</td>\n",
       "    </tr>\n",
       "    <tr>\n",
       "      <th>73056</th>\n",
       "      <td>513</td>\n",
       "    </tr>\n",
       "  </tbody>\n",
       "</table>\n",
       "<p>153 rows × 1 columns</p>\n",
       "</div>"
      ],
      "text/plain": [
       "          sum_of_jury_scores\n",
       "studentId                   \n",
       "18199                     72\n",
       "19134                     81\n",
       "19293                     73\n",
       "19409                     96\n",
       "19432                    120\n",
       "...                      ...\n",
       "72741                    284\n",
       "72973                    440\n",
       "73052                    253\n",
       "73053                    322\n",
       "73056                    513\n",
       "\n",
       "[153 rows x 1 columns]"
      ]
     },
     "execution_count": 14,
     "metadata": {},
     "output_type": "execute_result"
    }
   ],
   "source": [
    "jury_scores = get_jury_scores(whole_data, task_results_data)\n",
    "jury_scores.dropna()"
   ]
  },
  {
   "cell_type": "code",
   "execution_count": 15,
   "id": "expired-student",
   "metadata": {},
   "outputs": [
    {
     "data": {
      "text/plain": [
       "Series([], Name: sum_of_jury_scores, dtype: object)"
      ]
     },
     "execution_count": 15,
     "metadata": {},
     "output_type": "execute_result"
    }
   ],
   "source": [
    "joined_jury_scores = whole_data.join(jury_scores)['sum_of_jury_scores']\n",
    "joined_jury_scores[~joined_jury_scores.isna()]"
   ]
  },
  {
   "cell_type": "markdown",
   "id": "northern-stretch",
   "metadata": {},
   "source": [
    "If i am not mistaken - jury scores are useless, as there are no intersection with students id's"
   ]
  },
  {
   "cell_type": "markdown",
   "id": "gentle-plane",
   "metadata": {},
   "source": [
    "Let's try to calculate number of courses student have. If i understand correctly we can try to get this information from userId field"
   ]
  },
  {
   "cell_type": "code",
   "execution_count": 16,
   "id": "decimal-responsibility",
   "metadata": {
    "scrolled": true
   },
   "outputs": [
    {
     "data": {
      "text/plain": [
       "userId\n",
       "568      1\n",
       "569      1\n",
       "570      5\n",
       "571      1\n",
       "572      2\n",
       "        ..\n",
       "12483    1\n",
       "12532    1\n",
       "12544    1\n",
       "17673    1\n",
       "17704    1\n",
       "Length: 9849, dtype: int64"
      ]
     },
     "execution_count": 16,
     "metadata": {},
     "output_type": "execute_result"
    }
   ],
   "source": [
    "whole_data.groupby(by='userId').size()"
   ]
  },
  {
   "cell_type": "markdown",
   "id": "alternative-treasure",
   "metadata": {},
   "source": [
    "For example one user with userId=574 probably took 4 courses with different studentId's (i may be wrong here, but in description of data there is no information. also in chat i didn't get the answer)"
   ]
  },
  {
   "cell_type": "code",
   "execution_count": 17,
   "id": "scenic-desktop",
   "metadata": {
    "scrolled": true
   },
   "outputs": [
    {
     "data": {
      "text/html": [
       "<div>\n",
       "<style scoped>\n",
       "    .dataframe tbody tr th:only-of-type {\n",
       "        vertical-align: middle;\n",
       "    }\n",
       "\n",
       "    .dataframe tbody tr th {\n",
       "        vertical-align: top;\n",
       "    }\n",
       "\n",
       "    .dataframe thead th {\n",
       "        text-align: right;\n",
       "    }\n",
       "</style>\n",
       "<table border=\"1\" class=\"dataframe\">\n",
       "  <thead>\n",
       "    <tr style=\"text-align: right;\">\n",
       "      <th></th>\n",
       "      <th>createdDate</th>\n",
       "      <th>updatedDate</th>\n",
       "      <th>isExpelled</th>\n",
       "      <th>expellingReason</th>\n",
       "      <th>courseCompleted</th>\n",
       "      <th>isTopPerformer</th>\n",
       "      <th>preferedMentorGithubId</th>\n",
       "      <th>readyFullTime</th>\n",
       "      <th>courseId</th>\n",
       "      <th>userId</th>\n",
       "      <th>mentorId</th>\n",
       "      <th>cvUrl</th>\n",
       "      <th>hiredById</th>\n",
       "      <th>hiredByName</th>\n",
       "      <th>isFailed</th>\n",
       "      <th>startDate</th>\n",
       "      <th>endDate</th>\n",
       "      <th>repository</th>\n",
       "      <th>repositoryLastActivityDate</th>\n",
       "      <th>idUser</th>\n",
       "      <th>educationHistory</th>\n",
       "      <th>englishLevel</th>\n",
       "    </tr>\n",
       "    <tr>\n",
       "      <th>studentId</th>\n",
       "      <th></th>\n",
       "      <th></th>\n",
       "      <th></th>\n",
       "      <th></th>\n",
       "      <th></th>\n",
       "      <th></th>\n",
       "      <th></th>\n",
       "      <th></th>\n",
       "      <th></th>\n",
       "      <th></th>\n",
       "      <th></th>\n",
       "      <th></th>\n",
       "      <th></th>\n",
       "      <th></th>\n",
       "      <th></th>\n",
       "      <th></th>\n",
       "      <th></th>\n",
       "      <th></th>\n",
       "      <th></th>\n",
       "      <th></th>\n",
       "      <th></th>\n",
       "      <th></th>\n",
       "    </tr>\n",
       "  </thead>\n",
       "  <tbody>\n",
       "    <tr>\n",
       "      <th>14010</th>\n",
       "      <td>2020-03-23 09:40:30.661828</td>\n",
       "      <td>2020-07-01 21:33:02.558552</td>\n",
       "      <td>f</td>\n",
       "      <td>NaN</td>\n",
       "      <td>f</td>\n",
       "      <td>False</td>\n",
       "      <td>NaN</td>\n",
       "      <td>NaN</td>\n",
       "      <td>21</td>\n",
       "      <td>574</td>\n",
       "      <td>NaN</td>\n",
       "      <td>NaN</td>\n",
       "      <td>NaN</td>\n",
       "      <td>NaN</td>\n",
       "      <td>f</td>\n",
       "      <td>2020-03-23 09:40:30.659+00</td>\n",
       "      <td>NaN</td>\n",
       "      <td>NaN</td>\n",
       "      <td>NaN</td>\n",
       "      <td>574</td>\n",
       "      <td>[{\"graduationYear\":\"2008\",\"faculty\":\"Managemen...</td>\n",
       "      <td>b2</td>\n",
       "    </tr>\n",
       "    <tr>\n",
       "      <th>601</th>\n",
       "      <td>2019-04-24 10:03:40.391388</td>\n",
       "      <td>2019-08-05 12:50:17.352095</td>\n",
       "      <td>f</td>\n",
       "      <td>NaN</td>\n",
       "      <td>f</td>\n",
       "      <td>True</td>\n",
       "      <td>NaN</td>\n",
       "      <td>NaN</td>\n",
       "      <td>2</td>\n",
       "      <td>574</td>\n",
       "      <td>174.0</td>\n",
       "      <td>NaN</td>\n",
       "      <td>NaN</td>\n",
       "      <td>NaN</td>\n",
       "      <td>f</td>\n",
       "      <td>2018-09-01 19:47:14.081+00</td>\n",
       "      <td>2018-12-31 19:47:14.081+00</td>\n",
       "      <td>NaN</td>\n",
       "      <td>NaN</td>\n",
       "      <td>574</td>\n",
       "      <td>[{\"graduationYear\":\"2008\",\"faculty\":\"Managemen...</td>\n",
       "      <td>b2</td>\n",
       "    </tr>\n",
       "    <tr>\n",
       "      <th>5684</th>\n",
       "      <td>2019-08-29 14:19:17.984879</td>\n",
       "      <td>2019-08-30 07:25:11.378406</td>\n",
       "      <td>f</td>\n",
       "      <td>NaN</td>\n",
       "      <td>f</td>\n",
       "      <td>False</td>\n",
       "      <td>NaN</td>\n",
       "      <td>NaN</td>\n",
       "      <td>12</td>\n",
       "      <td>574</td>\n",
       "      <td>NaN</td>\n",
       "      <td>NaN</td>\n",
       "      <td>NaN</td>\n",
       "      <td>NaN</td>\n",
       "      <td>f</td>\n",
       "      <td>2019-04-08 07:23:45.643+00</td>\n",
       "      <td>2019-07-10 07:23:45.643+00</td>\n",
       "      <td>NaN</td>\n",
       "      <td>NaN</td>\n",
       "      <td>574</td>\n",
       "      <td>[{\"graduationYear\":\"2008\",\"faculty\":\"Managemen...</td>\n",
       "      <td>b2</td>\n",
       "    </tr>\n",
       "    <tr>\n",
       "      <th>2085</th>\n",
       "      <td>2019-05-03 10:51:18.521518</td>\n",
       "      <td>2019-08-05 08:55:09.750177</td>\n",
       "      <td>f</td>\n",
       "      <td>NaN</td>\n",
       "      <td>f</td>\n",
       "      <td>NaN</td>\n",
       "      <td>NaN</td>\n",
       "      <td>NaN</td>\n",
       "      <td>1</td>\n",
       "      <td>574</td>\n",
       "      <td>NaN</td>\n",
       "      <td>NaN</td>\n",
       "      <td>NaN</td>\n",
       "      <td>NaN</td>\n",
       "      <td>f</td>\n",
       "      <td>2019-01-01 00:49:13.461+00</td>\n",
       "      <td>NaN</td>\n",
       "      <td>NaN</td>\n",
       "      <td>NaN</td>\n",
       "      <td>574</td>\n",
       "      <td>[{\"graduationYear\":\"2008\",\"faculty\":\"Managemen...</td>\n",
       "      <td>b2</td>\n",
       "    </tr>\n",
       "  </tbody>\n",
       "</table>\n",
       "</div>"
      ],
      "text/plain": [
       "                          createdDate                 updatedDate isExpelled  \\\n",
       "studentId                                                                      \n",
       "14010      2020-03-23 09:40:30.661828  2020-07-01 21:33:02.558552          f   \n",
       "601        2019-04-24 10:03:40.391388  2019-08-05 12:50:17.352095          f   \n",
       "5684       2019-08-29 14:19:17.984879  2019-08-30 07:25:11.378406          f   \n",
       "2085       2019-05-03 10:51:18.521518  2019-08-05 08:55:09.750177          f   \n",
       "\n",
       "          expellingReason courseCompleted isTopPerformer  \\\n",
       "studentId                                                  \n",
       "14010                 NaN               f          False   \n",
       "601                   NaN               f           True   \n",
       "5684                  NaN               f          False   \n",
       "2085                  NaN               f            NaN   \n",
       "\n",
       "           preferedMentorGithubId readyFullTime  courseId  userId  mentorId  \\\n",
       "studentId                                                                     \n",
       "14010                         NaN           NaN        21     574       NaN   \n",
       "601                           NaN           NaN         2     574     174.0   \n",
       "5684                          NaN           NaN        12     574       NaN   \n",
       "2085                          NaN           NaN         1     574       NaN   \n",
       "\n",
       "           cvUrl  hiredById  hiredByName isFailed                   startDate  \\\n",
       "studentId                                                                       \n",
       "14010        NaN        NaN          NaN        f  2020-03-23 09:40:30.659+00   \n",
       "601          NaN        NaN          NaN        f  2018-09-01 19:47:14.081+00   \n",
       "5684         NaN        NaN          NaN        f  2019-04-08 07:23:45.643+00   \n",
       "2085         NaN        NaN          NaN        f  2019-01-01 00:49:13.461+00   \n",
       "\n",
       "                              endDate repository repositoryLastActivityDate  \\\n",
       "studentId                                                                     \n",
       "14010                             NaN        NaN                        NaN   \n",
       "601        2018-12-31 19:47:14.081+00        NaN                        NaN   \n",
       "5684       2019-07-10 07:23:45.643+00        NaN                        NaN   \n",
       "2085                              NaN        NaN                        NaN   \n",
       "\n",
       "           idUser                                   educationHistory  \\\n",
       "studentId                                                              \n",
       "14010         574  [{\"graduationYear\":\"2008\",\"faculty\":\"Managemen...   \n",
       "601           574  [{\"graduationYear\":\"2008\",\"faculty\":\"Managemen...   \n",
       "5684          574  [{\"graduationYear\":\"2008\",\"faculty\":\"Managemen...   \n",
       "2085          574  [{\"graduationYear\":\"2008\",\"faculty\":\"Managemen...   \n",
       "\n",
       "          englishLevel  \n",
       "studentId               \n",
       "14010               b2  \n",
       "601                 b2  \n",
       "5684                b2  \n",
       "2085                b2  "
      ]
     },
     "execution_count": 17,
     "metadata": {},
     "output_type": "execute_result"
    }
   ],
   "source": [
    "whole_data[whole_data.userId == 574]"
   ]
  },
  {
   "cell_type": "code",
   "execution_count": 18,
   "id": "boxed-senegal",
   "metadata": {},
   "outputs": [
    {
     "data": {
      "text/plain": [
       "(13462,)"
      ]
     },
     "execution_count": 18,
     "metadata": {},
     "output_type": "execute_result"
    }
   ],
   "source": [
    "whole_data.join(whole_data.groupby(by='userId').size().rename('num_courses'), on='userId')['num_courses'].shape"
   ]
  },
  {
   "cell_type": "code",
   "execution_count": 19,
   "id": "bound-amateur",
   "metadata": {},
   "outputs": [
    {
     "data": {
      "text/plain": [
       "13462"
      ]
     },
     "execution_count": 19,
     "metadata": {},
     "output_type": "execute_result"
    }
   ],
   "source": [
    "train_data.shape[0] + test_data.shape[0]"
   ]
  },
  {
   "cell_type": "code",
   "execution_count": 20,
   "id": "royal-fitting",
   "metadata": {},
   "outputs": [],
   "source": [
    "def get_education_features(data):\n",
    "    education_df = pd.DataFrame(index=data.index, columns=['graduation_year']) #, 'faculty', 'university'])\n",
    "\n",
    "    for it in data[data['educationHistory'] != '[]'].itertuples():\n",
    "        edu_dict = json.loads(it.educationHistory)[0]\n",
    "        index = it.Index\n",
    "    \n",
    "        if 'graduationYear' in edu_dict and edu_dict['graduationYear'] is not None:\n",
    "            match = re.search(r'^(\\d{4}).*', edu_dict['graduationYear'])\n",
    "            if match is not None:\n",
    "                education_df.loc[index, 'graduation_year'] = match.group(1)\n",
    "            \n",
    "#         if 'faculty' in edu_dict and edu_dict['faculty'] is not None:\n",
    "#             education_df.loc[index, 'faculty'] = edu_dict['faculty']\n",
    "        \n",
    "#         if 'university' in edu_dict and edu_dict['university'] is not None:\n",
    "#             education_df.loc[index, 'university'] = edu_dict['university']\n",
    "\n",
    "    # TODO think about faculty and university later ?\n",
    "            \n",
    "    education_df['grad_group_year'] = pd.qcut(education_df['graduation_year'].astype(float), q=5, labels=['grad_year_' + str(i) for i in range(5)])\n",
    "    return education_df['grad_group_year'].astype(str).fillna('grad_year_na')"
   ]
  },
  {
   "cell_type": "code",
   "execution_count": 21,
   "id": "living-rubber",
   "metadata": {},
   "outputs": [],
   "source": [
    "def get_features(data):\n",
    "    result = pd.DataFrame(index=data.index)\n",
    "    \n",
    "    result['english_level'] = extract_englishlevel(data)\n",
    "    \n",
    "    # maybe not best idea to use whole dataset knowledge, but in this case i think it's ok\n",
    "    result['size_of_course'] = get_size_of_course(whole_data)\n",
    "    result['num_courses_for_student'] = whole_data.join(whole_data.groupby(by='userId').size().rename('num_courses'), on='userId')['num_courses']\n",
    "\n",
    "    result['sum_of_scores'] = get_student_scores(whole_data, task_results_data)    \n",
    "    #result['sum_of_jury_scores'] = get_jury_scores(whole_data, task_results_data)\n",
    "    \n",
    "    result['invite_only_course'] = data.join(courses_data[['inviteOnly', 'courseId']].set_index('courseId'), on='courseId')['inviteOnly'].replace({'f':0,'t':1})\n",
    "    result['num_tasks'] = data.join(task_results_data.groupby(by='studentId')['score'].size().rename('num_tasks'))['num_tasks'].fillna(0)\n",
    "    \n",
    "        \n",
    "    result['repository_last_activity_na'] = data['repositoryLastActivityDate'].isna().astype(float)\n",
    "    result['repository_na'] = data['repository'].isna().astype(float)\n",
    "    \n",
    "    result['has_mentor'] = (~data['mentorId'].isna()).astype(float)\n",
    "    \n",
    "#     users_mentors_joined = data.join(data.groupby(by='mentorId').size().rename('num_students'), on='userId')\n",
    "#     users_mentors_joined['num_students'].fillna(0, inplace=True)\n",
    "#   ##  result['num_students'] = users_mentors_joined['num_students']\n",
    "    \n",
    "    result['has_education_history'] = (data['educationHistory'] != '[]').astype(float)\n",
    "    result['grad_year_group'] = get_education_features(data)\n",
    "    \n",
    "    timedelta_diff = pd.to_datetime(whole_data['updatedDate']) - pd.to_datetime(whole_data['createdDate'])\n",
    "    days_diff = timedelta_diff.astype('timedelta64[D]')\n",
    "    result['days_from_update'] = pd.qcut(days_diff, q=3, labels=['updated_days_' + str(i) for i in range(1, 4)])\n",
    "    \n",
    "    #result['course_id'] = whole_data['courseId'].astype(float)\n",
    "    \n",
    "    result = pd.get_dummies(result, columns=['english_level', 'grad_year_group', 'days_from_update'])\n",
    "    #result = pd.get_dummies(result, columns=['days_from_update'])\n",
    "    return result\n",
    "\n",
    "\n",
    "def get_target(data):\n",
    "    return data['isTopPerformer'].astype(float).values"
   ]
  },
  {
   "cell_type": "code",
   "execution_count": 22,
   "id": "modified-error",
   "metadata": {},
   "outputs": [
    {
     "data": {
      "text/plain": [
       "t    6769\n",
       "f    3702\n",
       "Name: isExpelled, dtype: int64"
      ]
     },
     "execution_count": 22,
     "metadata": {},
     "output_type": "execute_result"
    }
   ],
   "source": [
    "train_data['isExpelled'].value_counts()"
   ]
  },
  {
   "cell_type": "code",
   "execution_count": 23,
   "id": "romantic-worst",
   "metadata": {},
   "outputs": [
    {
     "data": {
      "text/plain": [
       "f    2991\n",
       "Name: isExpelled, dtype: int64"
      ]
     },
     "execution_count": 23,
     "metadata": {},
     "output_type": "execute_result"
    }
   ],
   "source": [
    "test_data['isExpelled'].value_counts()"
   ]
  },
  {
   "cell_type": "markdown",
   "id": "wooden-coordinator",
   "metadata": {},
   "source": [
    "It's a bit confusing that all data in test has false value for isExpelled. Maybe i'll return to this feature later"
   ]
  },
  {
   "cell_type": "code",
   "execution_count": 24,
   "id": "heavy-arbitration",
   "metadata": {},
   "outputs": [
    {
     "data": {
      "text/plain": [
       "Series([], Name: expellingReason, dtype: int64)"
      ]
     },
     "execution_count": 24,
     "metadata": {},
     "output_type": "execute_result"
    }
   ],
   "source": [
    "test_data['expellingReason'].value_counts()"
   ]
  },
  {
   "cell_type": "markdown",
   "id": "aggregate-alliance",
   "metadata": {},
   "source": [
    "expellingReason isNaN for all test data, so let's skip this column, as it can't be used for prediction"
   ]
  },
  {
   "cell_type": "code",
   "execution_count": 25,
   "id": "strong-chemistry",
   "metadata": {},
   "outputs": [
    {
     "data": {
      "text/plain": [
       "f    10471\n",
       "Name: courseCompleted, dtype: int64"
      ]
     },
     "execution_count": 25,
     "metadata": {},
     "output_type": "execute_result"
    }
   ],
   "source": [
    "train_data['courseCompleted'].value_counts()"
   ]
  },
  {
   "cell_type": "code",
   "execution_count": 26,
   "id": "representative-fireplace",
   "metadata": {},
   "outputs": [
    {
     "data": {
      "text/plain": [
       "10470"
      ]
     },
     "execution_count": 26,
     "metadata": {},
     "output_type": "execute_result"
    }
   ],
   "source": [
    "train_data['readyFullTime'].isna().sum()"
   ]
  },
  {
   "cell_type": "markdown",
   "id": "cloudy-victor",
   "metadata": {},
   "source": [
    "courseCompleted and readyFullTime are useless - they are constant"
   ]
  },
  {
   "cell_type": "code",
   "execution_count": 27,
   "id": "corrected-parks",
   "metadata": {
    "scrolled": true
   },
   "outputs": [
    {
     "data": {
      "text/plain": [
       "f    9036\n",
       "t    1435\n",
       "Name: isFailed, dtype: int64"
      ]
     },
     "execution_count": 27,
     "metadata": {},
     "output_type": "execute_result"
    }
   ],
   "source": [
    "train_data['isFailed'].value_counts(dropna=False)"
   ]
  },
  {
   "cell_type": "code",
   "execution_count": 28,
   "id": "affected-handy",
   "metadata": {},
   "outputs": [
    {
     "data": {
      "text/plain": [
       "f    2991\n",
       "Name: isFailed, dtype: int64"
      ]
     },
     "execution_count": 28,
     "metadata": {},
     "output_type": "execute_result"
    }
   ],
   "source": [
    "test_data['isFailed'].value_counts(dropna=False)"
   ]
  },
  {
   "cell_type": "markdown",
   "id": "narrative-daily",
   "metadata": {},
   "source": [
    "Is failed is constant on test data as well, seems useless"
   ]
  },
  {
   "cell_type": "code",
   "execution_count": 29,
   "id": "patient-eagle",
   "metadata": {},
   "outputs": [
    {
     "data": {
      "text/plain": [
       "10471"
      ]
     },
     "execution_count": 29,
     "metadata": {},
     "output_type": "execute_result"
    }
   ],
   "source": [
    "train_data['preferedMentorGithubId'].isna().sum()"
   ]
  },
  {
   "cell_type": "markdown",
   "id": "necessary-tutorial",
   "metadata": {},
   "source": [
    "preferedMentorGithubId is useless as well"
   ]
  },
  {
   "cell_type": "code",
   "execution_count": 30,
   "id": "qualified-navigator",
   "metadata": {
    "scrolled": false
   },
   "outputs": [
    {
     "data": {
      "text/html": [
       "<div>\n",
       "<style scoped>\n",
       "    .dataframe tbody tr th:only-of-type {\n",
       "        vertical-align: middle;\n",
       "    }\n",
       "\n",
       "    .dataframe tbody tr th {\n",
       "        vertical-align: top;\n",
       "    }\n",
       "\n",
       "    .dataframe thead th {\n",
       "        text-align: right;\n",
       "    }\n",
       "</style>\n",
       "<table border=\"1\" class=\"dataframe\">\n",
       "  <thead>\n",
       "    <tr style=\"text-align: right;\">\n",
       "      <th></th>\n",
       "      <th>train</th>\n",
       "      <th>test</th>\n",
       "    </tr>\n",
       "  </thead>\n",
       "  <tbody>\n",
       "    <tr>\n",
       "      <th>1</th>\n",
       "      <td>1591.0</td>\n",
       "      <td>254</td>\n",
       "    </tr>\n",
       "    <tr>\n",
       "      <th>2</th>\n",
       "      <td>1144.0</td>\n",
       "      <td>179</td>\n",
       "    </tr>\n",
       "    <tr>\n",
       "      <th>4</th>\n",
       "      <td>83.0</td>\n",
       "      <td>14</td>\n",
       "    </tr>\n",
       "    <tr>\n",
       "      <th>5</th>\n",
       "      <td>37.0</td>\n",
       "      <td>8</td>\n",
       "    </tr>\n",
       "    <tr>\n",
       "      <th>6</th>\n",
       "      <td>35.0</td>\n",
       "      <td>7</td>\n",
       "    </tr>\n",
       "    <tr>\n",
       "      <th>9</th>\n",
       "      <td>337.0</td>\n",
       "      <td>59</td>\n",
       "    </tr>\n",
       "    <tr>\n",
       "      <th>10</th>\n",
       "      <td>78.0</td>\n",
       "      <td>14</td>\n",
       "    </tr>\n",
       "    <tr>\n",
       "      <th>11</th>\n",
       "      <td>2669.0</td>\n",
       "      <td>454</td>\n",
       "    </tr>\n",
       "    <tr>\n",
       "      <th>12</th>\n",
       "      <td>18.0</td>\n",
       "      <td>3</td>\n",
       "    </tr>\n",
       "    <tr>\n",
       "      <th>13</th>\n",
       "      <td>2807.0</td>\n",
       "      <td>513</td>\n",
       "    </tr>\n",
       "    <tr>\n",
       "      <th>14</th>\n",
       "      <td>21.0</td>\n",
       "      <td>3</td>\n",
       "    </tr>\n",
       "    <tr>\n",
       "      <th>16</th>\n",
       "      <td>345.0</td>\n",
       "      <td>76</td>\n",
       "    </tr>\n",
       "    <tr>\n",
       "      <th>17</th>\n",
       "      <td>115.0</td>\n",
       "      <td>24</td>\n",
       "    </tr>\n",
       "    <tr>\n",
       "      <th>18</th>\n",
       "      <td>258.0</td>\n",
       "      <td>59</td>\n",
       "    </tr>\n",
       "    <tr>\n",
       "      <th>19</th>\n",
       "      <td>318.0</td>\n",
       "      <td>70</td>\n",
       "    </tr>\n",
       "    <tr>\n",
       "      <th>20</th>\n",
       "      <td>172.0</td>\n",
       "      <td>36</td>\n",
       "    </tr>\n",
       "    <tr>\n",
       "      <th>21</th>\n",
       "      <td>387.0</td>\n",
       "      <td>68</td>\n",
       "    </tr>\n",
       "    <tr>\n",
       "      <th>23</th>\n",
       "      <td>2.0</td>\n",
       "      <td>1</td>\n",
       "    </tr>\n",
       "    <tr>\n",
       "      <th>27</th>\n",
       "      <td>54.0</td>\n",
       "      <td>8</td>\n",
       "    </tr>\n",
       "    <tr>\n",
       "      <th>28</th>\n",
       "      <td>NaN</td>\n",
       "      <td>245</td>\n",
       "    </tr>\n",
       "    <tr>\n",
       "      <th>29</th>\n",
       "      <td>NaN</td>\n",
       "      <td>896</td>\n",
       "    </tr>\n",
       "  </tbody>\n",
       "</table>\n",
       "</div>"
      ],
      "text/plain": [
       "     train  test\n",
       "1   1591.0   254\n",
       "2   1144.0   179\n",
       "4     83.0    14\n",
       "5     37.0     8\n",
       "6     35.0     7\n",
       "9    337.0    59\n",
       "10    78.0    14\n",
       "11  2669.0   454\n",
       "12    18.0     3\n",
       "13  2807.0   513\n",
       "14    21.0     3\n",
       "16   345.0    76\n",
       "17   115.0    24\n",
       "18   258.0    59\n",
       "19   318.0    70\n",
       "20   172.0    36\n",
       "21   387.0    68\n",
       "23     2.0     1\n",
       "27    54.0     8\n",
       "28     NaN   245\n",
       "29     NaN   896"
      ]
     },
     "execution_count": 30,
     "metadata": {},
     "output_type": "execute_result"
    }
   ],
   "source": [
    "pd.concat([train_data['courseId'].value_counts(dropna=False).sort_index().rename('train'),\n",
    "           test_data['courseId'].value_counts(dropna=False).sort_index().rename('test')], axis=1)"
   ]
  },
  {
   "cell_type": "markdown",
   "id": "worldwide-standard",
   "metadata": {},
   "source": [
    "We see that test has courses that are not in train (28 and 29)"
   ]
  },
  {
   "cell_type": "code",
   "execution_count": 31,
   "id": "compound-arnold",
   "metadata": {},
   "outputs": [
    {
     "data": {
      "text/plain": [
       "2991"
      ]
     },
     "execution_count": 31,
     "metadata": {},
     "output_type": "execute_result"
    }
   ],
   "source": [
    "(~test_data['startDate'].isna()).sum()"
   ]
  },
  {
   "cell_type": "code",
   "execution_count": 32,
   "id": "aggressive-landscape",
   "metadata": {
    "scrolled": true
   },
   "outputs": [
    {
     "data": {
      "text/plain": [
       "0"
      ]
     },
     "execution_count": 32,
     "metadata": {},
     "output_type": "execute_result"
    }
   ],
   "source": [
    "(~test_data['endDate'].isna()).sum()"
   ]
  },
  {
   "cell_type": "markdown",
   "id": "drawn-generator",
   "metadata": {},
   "source": [
    "We don't see endDate in test data so we can't use it"
   ]
  },
  {
   "cell_type": "code",
   "execution_count": 33,
   "id": "furnished-capitol",
   "metadata": {},
   "outputs": [
    {
     "data": {
      "text/plain": [
       "0"
      ]
     },
     "execution_count": 33,
     "metadata": {},
     "output_type": "execute_result"
    }
   ],
   "source": [
    "(~test_data['hiredById'].isna()).sum()"
   ]
  },
  {
   "cell_type": "code",
   "execution_count": 34,
   "id": "proof-producer",
   "metadata": {},
   "outputs": [
    {
     "data": {
      "text/plain": [
       "0"
      ]
     },
     "execution_count": 34,
     "metadata": {},
     "output_type": "execute_result"
    }
   ],
   "source": [
    "(~test_data['hiredByName'].isna()).sum()"
   ]
  },
  {
   "cell_type": "code",
   "execution_count": 35,
   "id": "willing-photograph",
   "metadata": {},
   "outputs": [
    {
     "data": {
      "text/plain": [
       "78"
      ]
     },
     "execution_count": 35,
     "metadata": {},
     "output_type": "execute_result"
    }
   ],
   "source": [
    "(~test_data['repositoryLastActivityDate'].isna()).sum()"
   ]
  },
  {
   "cell_type": "code",
   "execution_count": 36,
   "id": "sexual-harrison",
   "metadata": {},
   "outputs": [
    {
     "data": {
      "text/plain": [
       "True     357\n",
       "False     14\n",
       "Name: isTopPerformer, dtype: int64"
      ]
     },
     "execution_count": 36,
     "metadata": {},
     "output_type": "execute_result"
    }
   ],
   "source": [
    "train_data[~train_data['repositoryLastActivityDate'].isna()]['isTopPerformer'].value_counts()"
   ]
  },
  {
   "cell_type": "markdown",
   "id": "confident-waterproof",
   "metadata": {},
   "source": [
    "While looking at all NA values in test data, i found repositoryLastActivityDate, which is sometimes not zero. We see on train data that it's seems to be very cool feature. Let's use it as a boolean flag"
   ]
  },
  {
   "cell_type": "code",
   "execution_count": 37,
   "id": "caring-minutes",
   "metadata": {},
   "outputs": [
    {
     "data": {
      "text/plain": [
       "287"
      ]
     },
     "execution_count": 37,
     "metadata": {},
     "output_type": "execute_result"
    }
   ],
   "source": [
    "(~test_data['repository'].isna()).sum()"
   ]
  },
  {
   "cell_type": "code",
   "execution_count": 38,
   "id": "recorded-rating",
   "metadata": {
    "scrolled": true
   },
   "outputs": [
    {
     "data": {
      "text/plain": [
       "True     1301\n",
       "False     209\n",
       "Name: isTopPerformer, dtype: int64"
      ]
     },
     "execution_count": 38,
     "metadata": {},
     "output_type": "execute_result"
    }
   ],
   "source": [
    "train_data[~train_data['repository'].isna()]['isTopPerformer'].value_counts()"
   ]
  },
  {
   "cell_type": "markdown",
   "id": "fourth-treasury",
   "metadata": {},
   "source": [
    "presense of repository seems to be valuable similiar to repositoryLastActivityDate"
   ]
  },
  {
   "cell_type": "code",
   "execution_count": 39,
   "id": "smart-advice",
   "metadata": {
    "scrolled": true
   },
   "outputs": [
    {
     "data": {
      "text/plain": [
       "0"
      ]
     },
     "execution_count": 39,
     "metadata": {},
     "output_type": "execute_result"
    }
   ],
   "source": [
    "(~test_data['cvUrl'].isna()).sum()"
   ]
  },
  {
   "cell_type": "code",
   "execution_count": 40,
   "id": "wireless-skill",
   "metadata": {
    "scrolled": true
   },
   "outputs": [
    {
     "data": {
      "text/plain": [
       "0"
      ]
     },
     "execution_count": 40,
     "metadata": {},
     "output_type": "execute_result"
    }
   ],
   "source": [
    "(~train_data['cvUrl'].isna()).sum()"
   ]
  },
  {
   "cell_type": "markdown",
   "id": "chinese-modification",
   "metadata": {},
   "source": [
    "cvUrl is always NA"
   ]
  },
  {
   "cell_type": "code",
   "execution_count": 41,
   "id": "previous-knock",
   "metadata": {},
   "outputs": [
    {
     "data": {
      "text/plain": [
       "467"
      ]
     },
     "execution_count": 41,
     "metadata": {},
     "output_type": "execute_result"
    }
   ],
   "source": [
    "(~test_data['mentorId'].isna()).sum()"
   ]
  },
  {
   "cell_type": "code",
   "execution_count": 42,
   "id": "surrounded-monroe",
   "metadata": {},
   "outputs": [
    {
     "data": {
      "text/plain": [
       "True     1862\n",
       "False     747\n",
       "Name: isTopPerformer, dtype: int64"
      ]
     },
     "execution_count": 42,
     "metadata": {},
     "output_type": "execute_result"
    }
   ],
   "source": [
    "train_data[~train_data['mentorId'].isna()]['isTopPerformer'].value_counts()"
   ]
  },
  {
   "cell_type": "markdown",
   "id": "gorgeous-safety",
   "metadata": {},
   "source": [
    "Let's add feature - how many students has mentor. For this let's group by mentorId and join it on userId from original data<br/>\n",
    "Below test area, actual feature calculation is in function get_features"
   ]
  },
  {
   "cell_type": "code",
   "execution_count": 43,
   "id": "sunset-leader",
   "metadata": {
    "scrolled": false
   },
   "outputs": [
    {
     "data": {
      "text/html": [
       "<div>\n",
       "<style scoped>\n",
       "    .dataframe tbody tr th:only-of-type {\n",
       "        vertical-align: middle;\n",
       "    }\n",
       "\n",
       "    .dataframe tbody tr th {\n",
       "        vertical-align: top;\n",
       "    }\n",
       "\n",
       "    .dataframe thead th {\n",
       "        text-align: right;\n",
       "    }\n",
       "</style>\n",
       "<table border=\"1\" class=\"dataframe\">\n",
       "  <thead>\n",
       "    <tr style=\"text-align: right;\">\n",
       "      <th></th>\n",
       "      <th>createdDate</th>\n",
       "      <th>updatedDate</th>\n",
       "      <th>isExpelled</th>\n",
       "      <th>expellingReason</th>\n",
       "      <th>courseCompleted</th>\n",
       "      <th>isTopPerformer</th>\n",
       "      <th>preferedMentorGithubId</th>\n",
       "      <th>readyFullTime</th>\n",
       "      <th>courseId</th>\n",
       "      <th>userId</th>\n",
       "      <th>mentorId</th>\n",
       "      <th>cvUrl</th>\n",
       "      <th>hiredById</th>\n",
       "      <th>hiredByName</th>\n",
       "      <th>isFailed</th>\n",
       "      <th>startDate</th>\n",
       "      <th>endDate</th>\n",
       "      <th>repository</th>\n",
       "      <th>repositoryLastActivityDate</th>\n",
       "      <th>idUser</th>\n",
       "      <th>educationHistory</th>\n",
       "      <th>englishLevel</th>\n",
       "      <th>num_students</th>\n",
       "    </tr>\n",
       "    <tr>\n",
       "      <th>studentId</th>\n",
       "      <th></th>\n",
       "      <th></th>\n",
       "      <th></th>\n",
       "      <th></th>\n",
       "      <th></th>\n",
       "      <th></th>\n",
       "      <th></th>\n",
       "      <th></th>\n",
       "      <th></th>\n",
       "      <th></th>\n",
       "      <th></th>\n",
       "      <th></th>\n",
       "      <th></th>\n",
       "      <th></th>\n",
       "      <th></th>\n",
       "      <th></th>\n",
       "      <th></th>\n",
       "      <th></th>\n",
       "      <th></th>\n",
       "      <th></th>\n",
       "      <th></th>\n",
       "      <th></th>\n",
       "      <th></th>\n",
       "    </tr>\n",
       "  </thead>\n",
       "  <tbody>\n",
       "    <tr>\n",
       "      <th>11873</th>\n",
       "      <td>2020-02-05 21:52:08.293923</td>\n",
       "      <td>2020-08-23 20:27:10.960391</td>\n",
       "      <td>t</td>\n",
       "      <td>no completed tasks</td>\n",
       "      <td>f</td>\n",
       "      <td>False</td>\n",
       "      <td>NaN</td>\n",
       "      <td>NaN</td>\n",
       "      <td>13</td>\n",
       "      <td>1109</td>\n",
       "      <td>NaN</td>\n",
       "      <td>NaN</td>\n",
       "      <td>NaN</td>\n",
       "      <td>NaN</td>\n",
       "      <td>f</td>\n",
       "      <td>2020-02-05 21:52:08.291+00</td>\n",
       "      <td>2020-04-14 17:34:16.479+00</td>\n",
       "      <td>NaN</td>\n",
       "      <td>NaN</td>\n",
       "      <td>1109</td>\n",
       "      <td>[{\"graduationYear\":\"2018\",\"faculty\":\"Informati...</td>\n",
       "      <td>a2</td>\n",
       "      <td>1.0</td>\n",
       "    </tr>\n",
       "    <tr>\n",
       "      <th>12266</th>\n",
       "      <td>2020-02-09 21:22:30.333915</td>\n",
       "      <td>2020-08-23 20:27:10.960391</td>\n",
       "      <td>t</td>\n",
       "      <td>no completed tasks</td>\n",
       "      <td>f</td>\n",
       "      <td>False</td>\n",
       "      <td>NaN</td>\n",
       "      <td>NaN</td>\n",
       "      <td>13</td>\n",
       "      <td>662</td>\n",
       "      <td>NaN</td>\n",
       "      <td>NaN</td>\n",
       "      <td>NaN</td>\n",
       "      <td>NaN</td>\n",
       "      <td>f</td>\n",
       "      <td>2020-02-09 21:22:30.331+00</td>\n",
       "      <td>2020-04-14 17:34:16.479+00</td>\n",
       "      <td>NaN</td>\n",
       "      <td>NaN</td>\n",
       "      <td>662</td>\n",
       "      <td>[{\"graduationYear\":\"\",\"faculty\":\"FIT\",\"univers...</td>\n",
       "      <td>a2</td>\n",
       "      <td>2.0</td>\n",
       "    </tr>\n",
       "    <tr>\n",
       "      <th>10834</th>\n",
       "      <td>2020-02-03 13:51:25.347884</td>\n",
       "      <td>2020-08-23 20:27:10.960391</td>\n",
       "      <td>t</td>\n",
       "      <td>no completed tasks</td>\n",
       "      <td>f</td>\n",
       "      <td>False</td>\n",
       "      <td>NaN</td>\n",
       "      <td>NaN</td>\n",
       "      <td>13</td>\n",
       "      <td>1192</td>\n",
       "      <td>NaN</td>\n",
       "      <td>NaN</td>\n",
       "      <td>NaN</td>\n",
       "      <td>NaN</td>\n",
       "      <td>f</td>\n",
       "      <td>2020-02-03 13:51:25.345+00</td>\n",
       "      <td>2020-04-14 17:34:16.479+00</td>\n",
       "      <td>NaN</td>\n",
       "      <td>NaN</td>\n",
       "      <td>1192</td>\n",
       "      <td>[{\"graduationYear\":\"2006\",\"faculty\":\"Instrumen...</td>\n",
       "      <td>A2</td>\n",
       "      <td>2.0</td>\n",
       "    </tr>\n",
       "    <tr>\n",
       "      <th>10006</th>\n",
       "      <td>2020-02-02 10:16:09.942336</td>\n",
       "      <td>2020-08-23 20:27:10.960391</td>\n",
       "      <td>t</td>\n",
       "      <td>no completed tasks</td>\n",
       "      <td>f</td>\n",
       "      <td>False</td>\n",
       "      <td>NaN</td>\n",
       "      <td>NaN</td>\n",
       "      <td>13</td>\n",
       "      <td>978</td>\n",
       "      <td>NaN</td>\n",
       "      <td>NaN</td>\n",
       "      <td>NaN</td>\n",
       "      <td>NaN</td>\n",
       "      <td>f</td>\n",
       "      <td>2020-02-02 10:16:09.94+00</td>\n",
       "      <td>2020-04-14 17:34:16.479+00</td>\n",
       "      <td>NaN</td>\n",
       "      <td>NaN</td>\n",
       "      <td>978</td>\n",
       "      <td>[{\"graduationYear\":null,\"faculty\":\"Information...</td>\n",
       "      <td>a2</td>\n",
       "      <td>5.0</td>\n",
       "    </tr>\n",
       "    <tr>\n",
       "      <th>12916</th>\n",
       "      <td>2020-02-17 17:13:17.335724</td>\n",
       "      <td>2020-10-13 21:00:01.563666</td>\n",
       "      <td>t</td>\n",
       "      <td>Course score is too low</td>\n",
       "      <td>f</td>\n",
       "      <td>False</td>\n",
       "      <td>NaN</td>\n",
       "      <td>NaN</td>\n",
       "      <td>19</td>\n",
       "      <td>1241</td>\n",
       "      <td>NaN</td>\n",
       "      <td>NaN</td>\n",
       "      <td>NaN</td>\n",
       "      <td>NaN</td>\n",
       "      <td>f</td>\n",
       "      <td>2020-02-17 17:13:17.333+00</td>\n",
       "      <td>2020-05-28 13:54:20.092+00</td>\n",
       "      <td>NaN</td>\n",
       "      <td>NaN</td>\n",
       "      <td>1241</td>\n",
       "      <td>[{\"graduationYear\":\"2014\",\"faculty\":\"Commerce ...</td>\n",
       "      <td>b2</td>\n",
       "      <td>1.0</td>\n",
       "    </tr>\n",
       "  </tbody>\n",
       "</table>\n",
       "</div>"
      ],
      "text/plain": [
       "                          createdDate                 updatedDate isExpelled  \\\n",
       "studentId                                                                      \n",
       "11873      2020-02-05 21:52:08.293923  2020-08-23 20:27:10.960391          t   \n",
       "12266      2020-02-09 21:22:30.333915  2020-08-23 20:27:10.960391          t   \n",
       "10834      2020-02-03 13:51:25.347884  2020-08-23 20:27:10.960391          t   \n",
       "10006      2020-02-02 10:16:09.942336  2020-08-23 20:27:10.960391          t   \n",
       "12916      2020-02-17 17:13:17.335724  2020-10-13 21:00:01.563666          t   \n",
       "\n",
       "                   expellingReason courseCompleted  isTopPerformer  \\\n",
       "studentId                                                            \n",
       "11873           no completed tasks               f           False   \n",
       "12266           no completed tasks               f           False   \n",
       "10834           no completed tasks               f           False   \n",
       "10006           no completed tasks               f           False   \n",
       "12916      Course score is too low               f           False   \n",
       "\n",
       "           preferedMentorGithubId readyFullTime  courseId  userId  mentorId  \\\n",
       "studentId                                                                     \n",
       "11873                         NaN           NaN        13    1109       NaN   \n",
       "12266                         NaN           NaN        13     662       NaN   \n",
       "10834                         NaN           NaN        13    1192       NaN   \n",
       "10006                         NaN           NaN        13     978       NaN   \n",
       "12916                         NaN           NaN        19    1241       NaN   \n",
       "\n",
       "           cvUrl  hiredById  hiredByName isFailed                   startDate  \\\n",
       "studentId                                                                       \n",
       "11873        NaN        NaN          NaN        f  2020-02-05 21:52:08.291+00   \n",
       "12266        NaN        NaN          NaN        f  2020-02-09 21:22:30.331+00   \n",
       "10834        NaN        NaN          NaN        f  2020-02-03 13:51:25.345+00   \n",
       "10006        NaN        NaN          NaN        f   2020-02-02 10:16:09.94+00   \n",
       "12916        NaN        NaN          NaN        f  2020-02-17 17:13:17.333+00   \n",
       "\n",
       "                              endDate repository repositoryLastActivityDate  \\\n",
       "studentId                                                                     \n",
       "11873      2020-04-14 17:34:16.479+00        NaN                        NaN   \n",
       "12266      2020-04-14 17:34:16.479+00        NaN                        NaN   \n",
       "10834      2020-04-14 17:34:16.479+00        NaN                        NaN   \n",
       "10006      2020-04-14 17:34:16.479+00        NaN                        NaN   \n",
       "12916      2020-05-28 13:54:20.092+00        NaN                        NaN   \n",
       "\n",
       "           idUser                                   educationHistory  \\\n",
       "studentId                                                              \n",
       "11873        1109  [{\"graduationYear\":\"2018\",\"faculty\":\"Informati...   \n",
       "12266         662  [{\"graduationYear\":\"\",\"faculty\":\"FIT\",\"univers...   \n",
       "10834        1192  [{\"graduationYear\":\"2006\",\"faculty\":\"Instrumen...   \n",
       "10006         978  [{\"graduationYear\":null,\"faculty\":\"Information...   \n",
       "12916        1241  [{\"graduationYear\":\"2014\",\"faculty\":\"Commerce ...   \n",
       "\n",
       "          englishLevel  num_students  \n",
       "studentId                             \n",
       "11873               a2           1.0  \n",
       "12266               a2           2.0  \n",
       "10834               A2           2.0  \n",
       "10006               a2           5.0  \n",
       "12916               b2           1.0  "
      ]
     },
     "execution_count": 43,
     "metadata": {},
     "output_type": "execute_result"
    }
   ],
   "source": [
    "test = train_data.join(train_data.groupby(by='mentorId').size().rename('num_students'), on='userId')\n",
    "test['num_students'].fillna(0, inplace=True)\n",
    "test[test['num_students'] > 0].tail()"
   ]
  },
  {
   "cell_type": "code",
   "execution_count": 44,
   "id": "about-longer",
   "metadata": {
    "scrolled": false
   },
   "outputs": [
    {
     "data": {
      "text/html": [
       "<div>\n",
       "<style scoped>\n",
       "    .dataframe tbody tr th:only-of-type {\n",
       "        vertical-align: middle;\n",
       "    }\n",
       "\n",
       "    .dataframe tbody tr th {\n",
       "        vertical-align: top;\n",
       "    }\n",
       "\n",
       "    .dataframe thead th {\n",
       "        text-align: right;\n",
       "    }\n",
       "</style>\n",
       "<table border=\"1\" class=\"dataframe\">\n",
       "  <thead>\n",
       "    <tr style=\"text-align: right;\">\n",
       "      <th></th>\n",
       "      <th>graduation_year</th>\n",
       "      <th>faculty</th>\n",
       "      <th>university</th>\n",
       "    </tr>\n",
       "    <tr>\n",
       "      <th>studentId</th>\n",
       "      <th></th>\n",
       "      <th></th>\n",
       "      <th></th>\n",
       "    </tr>\n",
       "  </thead>\n",
       "  <tbody>\n",
       "    <tr>\n",
       "      <th>6958</th>\n",
       "      <td>2006</td>\n",
       "      <td>Physico-Technical Faculty</td>\n",
       "      <td>Yanka Kupala State University of Grodno</td>\n",
       "    </tr>\n",
       "    <tr>\n",
       "      <th>8004</th>\n",
       "      <td>2006</td>\n",
       "      <td>Physics and Technology Faculty</td>\n",
       "      <td>Yanka Kupala  State University of Grodno</td>\n",
       "    </tr>\n",
       "    <tr>\n",
       "      <th>9155</th>\n",
       "      <td>2012</td>\n",
       "      <td>Mechanical Engineering</td>\n",
       "      <td>Belarusian National Technical University</td>\n",
       "    </tr>\n",
       "    <tr>\n",
       "      <th>6613</th>\n",
       "      <td>2010</td>\n",
       "      <td>Faculty of Telecommunications</td>\n",
       "      <td>BSUIR</td>\n",
       "    </tr>\n",
       "    <tr>\n",
       "      <th>5979</th>\n",
       "      <td>2012</td>\n",
       "      <td>Business-administration</td>\n",
       "      <td>Brest State University named after A.S.Pushkin</td>\n",
       "    </tr>\n",
       "  </tbody>\n",
       "</table>\n",
       "</div>"
      ],
      "text/plain": [
       "          graduation_year                         faculty  \\\n",
       "studentId                                                   \n",
       "6958                 2006       Physico-Technical Faculty   \n",
       "8004                 2006  Physics and Technology Faculty   \n",
       "9155                 2012          Mechanical Engineering   \n",
       "6613                 2010   Faculty of Telecommunications   \n",
       "5979                 2012         Business-administration   \n",
       "\n",
       "                                               university  \n",
       "studentId                                                  \n",
       "6958              Yanka Kupala State University of Grodno  \n",
       "8004             Yanka Kupala  State University of Grodno  \n",
       "9155             Belarusian National Technical University  \n",
       "6613                                                BSUIR  \n",
       "5979       Brest State University named after A.S.Pushkin  "
      ]
     },
     "execution_count": 44,
     "metadata": {},
     "output_type": "execute_result"
    }
   ],
   "source": [
    "education_df = pd.DataFrame(index=test_data.index, columns=['graduation_year', 'faculty', 'university'])\n",
    "\n",
    "for it in test_data[test_data['educationHistory'] != '[]'].itertuples():\n",
    "    edu_dict = json.loads(it.educationHistory)[0]\n",
    "    index = it.Index\n",
    "    \n",
    "    if 'graduationYear' in edu_dict and edu_dict['graduationYear'] is not None:\n",
    "        match = re.search(r'^(\\d{4}).*', edu_dict['graduationYear'])\n",
    "        if match is not None:\n",
    "            education_df.loc[index, 'graduation_year'] = match.group(1)\n",
    "            \n",
    "    if 'faculty' in edu_dict and edu_dict['faculty'] is not None:\n",
    "        education_df.loc[index, 'faculty'] = edu_dict['faculty']\n",
    "        \n",
    "    if 'university' in edu_dict and edu_dict['university'] is not None:\n",
    "        education_df.loc[index, 'university'] = edu_dict['university']\n",
    "\n",
    "education_df[~education_df.university.isna()].head()"
   ]
  },
  {
   "cell_type": "code",
   "execution_count": 45,
   "id": "binary-return",
   "metadata": {
    "scrolled": true
   },
   "outputs": [
    {
     "data": {
      "text/plain": [
       "studentId\n",
       "11450     56.0\n",
       "7855      70.0\n",
       "12753    239.0\n",
       "14717     73.0\n",
       "7455     132.0\n",
       "         ...  \n",
       "13278    238.0\n",
       "14984     78.0\n",
       "14557     97.0\n",
       "15249     78.0\n",
       "15012     78.0\n",
       "Length: 2991, dtype: float64"
      ]
     },
     "execution_count": 45,
     "metadata": {},
     "output_type": "execute_result"
    }
   ],
   "source": [
    "diff = pd.to_datetime(test_data['updatedDate']) - pd.to_datetime(test_data['createdDate'])\n",
    "days = diff.astype('timedelta64[D]')\n",
    "days"
   ]
  },
  {
   "cell_type": "code",
   "execution_count": 46,
   "id": "golden-photograph",
   "metadata": {},
   "outputs": [
    {
     "data": {
      "text/plain": [
       "studentId\n",
       "11450    updated_days_2\n",
       "7855     updated_days_2\n",
       "12753    updated_days_5\n",
       "14717    updated_days_2\n",
       "7455     updated_days_4\n",
       "              ...      \n",
       "13278    updated_days_5\n",
       "14984    updated_days_3\n",
       "14557    updated_days_4\n",
       "15249    updated_days_3\n",
       "15012    updated_days_3\n",
       "Length: 2991, dtype: category\n",
       "Categories (5, object): ['updated_days_1' < 'updated_days_2' < 'updated_days_3' < 'updated_days_4' < 'updated_days_5']"
      ]
     },
     "execution_count": 46,
     "metadata": {},
     "output_type": "execute_result"
    }
   ],
   "source": [
    "pd.qcut(days, q=5, labels=['updated_days_' + str(i) for i in range(1, 6)])"
   ]
  },
  {
   "cell_type": "code",
   "execution_count": 47,
   "id": "relevant-clerk",
   "metadata": {},
   "outputs": [
    {
     "data": {
      "text/html": [
       "<div>\n",
       "<style scoped>\n",
       "    .dataframe tbody tr th:only-of-type {\n",
       "        vertical-align: middle;\n",
       "    }\n",
       "\n",
       "    .dataframe tbody tr th {\n",
       "        vertical-align: top;\n",
       "    }\n",
       "\n",
       "    .dataframe thead th {\n",
       "        text-align: right;\n",
       "    }\n",
       "</style>\n",
       "<table border=\"1\" class=\"dataframe\">\n",
       "  <thead>\n",
       "    <tr style=\"text-align: right;\">\n",
       "      <th></th>\n",
       "      <th>isTopPerformer</th>\n",
       "      <th>courseId</th>\n",
       "    </tr>\n",
       "    <tr>\n",
       "      <th>studentId</th>\n",
       "      <th></th>\n",
       "      <th></th>\n",
       "    </tr>\n",
       "  </thead>\n",
       "  <tbody>\n",
       "    <tr>\n",
       "      <th>5740</th>\n",
       "      <td>True</td>\n",
       "      <td>11</td>\n",
       "    </tr>\n",
       "    <tr>\n",
       "      <th>6956</th>\n",
       "      <td>True</td>\n",
       "      <td>11</td>\n",
       "    </tr>\n",
       "    <tr>\n",
       "      <th>11616</th>\n",
       "      <td>False</td>\n",
       "      <td>16</td>\n",
       "    </tr>\n",
       "    <tr>\n",
       "      <th>11773</th>\n",
       "      <td>False</td>\n",
       "      <td>16</td>\n",
       "    </tr>\n",
       "    <tr>\n",
       "      <th>6724</th>\n",
       "      <td>True</td>\n",
       "      <td>11</td>\n",
       "    </tr>\n",
       "    <tr>\n",
       "      <th>...</th>\n",
       "      <td>...</td>\n",
       "      <td>...</td>\n",
       "    </tr>\n",
       "    <tr>\n",
       "      <th>13213</th>\n",
       "      <td>True</td>\n",
       "      <td>19</td>\n",
       "    </tr>\n",
       "    <tr>\n",
       "      <th>12819</th>\n",
       "      <td>False</td>\n",
       "      <td>19</td>\n",
       "    </tr>\n",
       "    <tr>\n",
       "      <th>12707</th>\n",
       "      <td>False</td>\n",
       "      <td>19</td>\n",
       "    </tr>\n",
       "    <tr>\n",
       "      <th>12863</th>\n",
       "      <td>False</td>\n",
       "      <td>19</td>\n",
       "    </tr>\n",
       "    <tr>\n",
       "      <th>12852</th>\n",
       "      <td>False</td>\n",
       "      <td>19</td>\n",
       "    </tr>\n",
       "  </tbody>\n",
       "</table>\n",
       "<p>10471 rows × 2 columns</p>\n",
       "</div>"
      ],
      "text/plain": [
       "           isTopPerformer  courseId\n",
       "studentId                          \n",
       "5740                 True        11\n",
       "6956                 True        11\n",
       "11616               False        16\n",
       "11773               False        16\n",
       "6724                 True        11\n",
       "...                   ...       ...\n",
       "13213                True        19\n",
       "12819               False        19\n",
       "12707               False        19\n",
       "12863               False        19\n",
       "12852               False        19\n",
       "\n",
       "[10471 rows x 2 columns]"
      ]
     },
     "execution_count": 47,
     "metadata": {},
     "output_type": "execute_result"
    }
   ],
   "source": [
    "train_data.drop(columns=['isFailed',\n",
    "                         'preferedMentorGithubId',\n",
    "                         'readyFullTime',\n",
    "                         'isExpelled',\n",
    "                         'expellingReason',\n",
    "                         'courseCompleted',\n",
    "                         'englishLevel',\n",
    "                         'startDate',\n",
    "                         'endDate',\n",
    "                         'hiredById',\n",
    "                         'hiredByName',\n",
    "                         'repositoryLastActivityDate',\n",
    "                         'repository',\n",
    "                         'cvUrl',\n",
    "                         'mentorId',\n",
    "                         'idUser',\n",
    "                         'userId',\n",
    "                         'educationHistory',\n",
    "                         'createdDate',\n",
    "                         'updatedDate'])"
   ]
  },
  {
   "cell_type": "markdown",
   "id": "stylish-california",
   "metadata": {},
   "source": [
    "Idea to calculate size of a course"
   ]
  },
  {
   "cell_type": "code",
   "execution_count": 48,
   "id": "general-silicon",
   "metadata": {},
   "outputs": [
    {
     "data": {
      "text/html": [
       "<div>\n",
       "<style scoped>\n",
       "    .dataframe tbody tr th:only-of-type {\n",
       "        vertical-align: middle;\n",
       "    }\n",
       "\n",
       "    .dataframe tbody tr th {\n",
       "        vertical-align: top;\n",
       "    }\n",
       "\n",
       "    .dataframe thead th {\n",
       "        text-align: right;\n",
       "    }\n",
       "</style>\n",
       "<table border=\"1\" class=\"dataframe\">\n",
       "  <thead>\n",
       "    <tr style=\"text-align: right;\">\n",
       "      <th></th>\n",
       "      <th>createdDate</th>\n",
       "      <th>updatedDate</th>\n",
       "      <th>isExpelled</th>\n",
       "      <th>expellingReason</th>\n",
       "      <th>courseCompleted</th>\n",
       "      <th>isTopPerformer</th>\n",
       "      <th>preferedMentorGithubId</th>\n",
       "      <th>readyFullTime</th>\n",
       "      <th>courseId</th>\n",
       "      <th>userId</th>\n",
       "      <th>mentorId</th>\n",
       "      <th>cvUrl</th>\n",
       "      <th>hiredById</th>\n",
       "      <th>hiredByName</th>\n",
       "      <th>isFailed</th>\n",
       "      <th>startDate</th>\n",
       "      <th>endDate</th>\n",
       "      <th>repository</th>\n",
       "      <th>repositoryLastActivityDate</th>\n",
       "      <th>idUser</th>\n",
       "      <th>educationHistory</th>\n",
       "      <th>englishLevel</th>\n",
       "      <th>size_of_course</th>\n",
       "    </tr>\n",
       "    <tr>\n",
       "      <th>studentId</th>\n",
       "      <th></th>\n",
       "      <th></th>\n",
       "      <th></th>\n",
       "      <th></th>\n",
       "      <th></th>\n",
       "      <th></th>\n",
       "      <th></th>\n",
       "      <th></th>\n",
       "      <th></th>\n",
       "      <th></th>\n",
       "      <th></th>\n",
       "      <th></th>\n",
       "      <th></th>\n",
       "      <th></th>\n",
       "      <th></th>\n",
       "      <th></th>\n",
       "      <th></th>\n",
       "      <th></th>\n",
       "      <th></th>\n",
       "      <th></th>\n",
       "      <th></th>\n",
       "      <th></th>\n",
       "      <th></th>\n",
       "    </tr>\n",
       "  </thead>\n",
       "  <tbody>\n",
       "    <tr>\n",
       "      <th>5740</th>\n",
       "      <td>2019-09-06 17:30:17.681556</td>\n",
       "      <td>2019-12-03 16:24:58.705742</td>\n",
       "      <td>t</td>\n",
       "      <td>No activity in private repository</td>\n",
       "      <td>f</td>\n",
       "      <td>True</td>\n",
       "      <td>NaN</td>\n",
       "      <td>NaN</td>\n",
       "      <td>11</td>\n",
       "      <td>4467</td>\n",
       "      <td>647.0</td>\n",
       "      <td>NaN</td>\n",
       "      <td>NaN</td>\n",
       "      <td>NaN</td>\n",
       "      <td>f</td>\n",
       "      <td>2019-09-09 07:35:20.981+00</td>\n",
       "      <td>2019-12-04 09:17:02.998689+00</td>\n",
       "      <td>https://github.com/rolling-scopes-school/1b3f6...</td>\n",
       "      <td>NaN</td>\n",
       "      <td>4467</td>\n",
       "      <td>[]</td>\n",
       "      <td>NaN</td>\n",
       "      <td>3123</td>\n",
       "    </tr>\n",
       "    <tr>\n",
       "      <th>6956</th>\n",
       "      <td>2019-09-09 18:24:04.90096</td>\n",
       "      <td>2019-11-20 22:00:13.036321</td>\n",
       "      <td>t</td>\n",
       "      <td>No activity in private repository</td>\n",
       "      <td>f</td>\n",
       "      <td>True</td>\n",
       "      <td>NaN</td>\n",
       "      <td>NaN</td>\n",
       "      <td>11</td>\n",
       "      <td>5580</td>\n",
       "      <td>795.0</td>\n",
       "      <td>NaN</td>\n",
       "      <td>NaN</td>\n",
       "      <td>NaN</td>\n",
       "      <td>f</td>\n",
       "      <td>2019-09-09 07:35:20.981+00</td>\n",
       "      <td>2019-12-04 09:17:02.998689+00</td>\n",
       "      <td>https://github.com/rolling-scopes-school/76c0e...</td>\n",
       "      <td>NaN</td>\n",
       "      <td>5580</td>\n",
       "      <td>[]</td>\n",
       "      <td>NaN</td>\n",
       "      <td>3123</td>\n",
       "    </tr>\n",
       "    <tr>\n",
       "      <th>11616</th>\n",
       "      <td>2020-02-05 12:39:48.166948</td>\n",
       "      <td>2020-02-05 12:39:48.166948</td>\n",
       "      <td>f</td>\n",
       "      <td>NaN</td>\n",
       "      <td>f</td>\n",
       "      <td>False</td>\n",
       "      <td>NaN</td>\n",
       "      <td>NaN</td>\n",
       "      <td>16</td>\n",
       "      <td>9557</td>\n",
       "      <td>NaN</td>\n",
       "      <td>NaN</td>\n",
       "      <td>NaN</td>\n",
       "      <td>NaN</td>\n",
       "      <td>f</td>\n",
       "      <td>2020-02-05 12:39:48.164+00</td>\n",
       "      <td>NaN</td>\n",
       "      <td>NaN</td>\n",
       "      <td>NaN</td>\n",
       "      <td>9557</td>\n",
       "      <td>[]</td>\n",
       "      <td>NaN</td>\n",
       "      <td>421</td>\n",
       "    </tr>\n",
       "    <tr>\n",
       "      <th>11773</th>\n",
       "      <td>2020-02-05 17:16:46.874484</td>\n",
       "      <td>2020-02-05 17:16:46.874484</td>\n",
       "      <td>f</td>\n",
       "      <td>NaN</td>\n",
       "      <td>f</td>\n",
       "      <td>False</td>\n",
       "      <td>NaN</td>\n",
       "      <td>NaN</td>\n",
       "      <td>16</td>\n",
       "      <td>9627</td>\n",
       "      <td>NaN</td>\n",
       "      <td>NaN</td>\n",
       "      <td>NaN</td>\n",
       "      <td>NaN</td>\n",
       "      <td>f</td>\n",
       "      <td>2020-02-05 17:16:46.872+00</td>\n",
       "      <td>NaN</td>\n",
       "      <td>NaN</td>\n",
       "      <td>NaN</td>\n",
       "      <td>9627</td>\n",
       "      <td>[{\"graduationYear\":null,\"faculty\":null,\"univer...</td>\n",
       "      <td>b1</td>\n",
       "      <td>421</td>\n",
       "    </tr>\n",
       "    <tr>\n",
       "      <th>6724</th>\n",
       "      <td>2019-09-09 17:06:56.967084</td>\n",
       "      <td>2020-01-19 16:55:12.069984</td>\n",
       "      <td>t</td>\n",
       "      <td>Failed Stage 2</td>\n",
       "      <td>f</td>\n",
       "      <td>True</td>\n",
       "      <td>NaN</td>\n",
       "      <td>NaN</td>\n",
       "      <td>11</td>\n",
       "      <td>5390</td>\n",
       "      <td>928.0</td>\n",
       "      <td>NaN</td>\n",
       "      <td>NaN</td>\n",
       "      <td>NaN</td>\n",
       "      <td>f</td>\n",
       "      <td>2019-09-09 07:35:20.981+00</td>\n",
       "      <td>1970-01-01 00:00:00+00</td>\n",
       "      <td>https://github.com/rolling-scopes-school/7fb23...</td>\n",
       "      <td>NaN</td>\n",
       "      <td>5390</td>\n",
       "      <td>[]</td>\n",
       "      <td>NaN</td>\n",
       "      <td>3123</td>\n",
       "    </tr>\n",
       "  </tbody>\n",
       "</table>\n",
       "</div>"
      ],
      "text/plain": [
       "                          createdDate                 updatedDate isExpelled  \\\n",
       "studentId                                                                      \n",
       "5740       2019-09-06 17:30:17.681556  2019-12-03 16:24:58.705742          t   \n",
       "6956        2019-09-09 18:24:04.90096  2019-11-20 22:00:13.036321          t   \n",
       "11616      2020-02-05 12:39:48.166948  2020-02-05 12:39:48.166948          f   \n",
       "11773      2020-02-05 17:16:46.874484  2020-02-05 17:16:46.874484          f   \n",
       "6724       2019-09-09 17:06:56.967084  2020-01-19 16:55:12.069984          t   \n",
       "\n",
       "                             expellingReason courseCompleted  isTopPerformer  \\\n",
       "studentId                                                                      \n",
       "5740       No activity in private repository               f            True   \n",
       "6956       No activity in private repository               f            True   \n",
       "11616                                    NaN               f           False   \n",
       "11773                                    NaN               f           False   \n",
       "6724                          Failed Stage 2               f            True   \n",
       "\n",
       "           preferedMentorGithubId readyFullTime  courseId  userId  mentorId  \\\n",
       "studentId                                                                     \n",
       "5740                          NaN           NaN        11    4467     647.0   \n",
       "6956                          NaN           NaN        11    5580     795.0   \n",
       "11616                         NaN           NaN        16    9557       NaN   \n",
       "11773                         NaN           NaN        16    9627       NaN   \n",
       "6724                          NaN           NaN        11    5390     928.0   \n",
       "\n",
       "           cvUrl  hiredById  hiredByName isFailed                   startDate  \\\n",
       "studentId                                                                       \n",
       "5740         NaN        NaN          NaN        f  2019-09-09 07:35:20.981+00   \n",
       "6956         NaN        NaN          NaN        f  2019-09-09 07:35:20.981+00   \n",
       "11616        NaN        NaN          NaN        f  2020-02-05 12:39:48.164+00   \n",
       "11773        NaN        NaN          NaN        f  2020-02-05 17:16:46.872+00   \n",
       "6724         NaN        NaN          NaN        f  2019-09-09 07:35:20.981+00   \n",
       "\n",
       "                                 endDate  \\\n",
       "studentId                                  \n",
       "5740       2019-12-04 09:17:02.998689+00   \n",
       "6956       2019-12-04 09:17:02.998689+00   \n",
       "11616                                NaN   \n",
       "11773                                NaN   \n",
       "6724              1970-01-01 00:00:00+00   \n",
       "\n",
       "                                                  repository  \\\n",
       "studentId                                                      \n",
       "5740       https://github.com/rolling-scopes-school/1b3f6...   \n",
       "6956       https://github.com/rolling-scopes-school/76c0e...   \n",
       "11616                                                    NaN   \n",
       "11773                                                    NaN   \n",
       "6724       https://github.com/rolling-scopes-school/7fb23...   \n",
       "\n",
       "          repositoryLastActivityDate  idUser  \\\n",
       "studentId                                      \n",
       "5740                             NaN    4467   \n",
       "6956                             NaN    5580   \n",
       "11616                            NaN    9557   \n",
       "11773                            NaN    9627   \n",
       "6724                             NaN    5390   \n",
       "\n",
       "                                            educationHistory englishLevel  \\\n",
       "studentId                                                                   \n",
       "5740                                                      []          NaN   \n",
       "6956                                                      []          NaN   \n",
       "11616                                                     []          NaN   \n",
       "11773      [{\"graduationYear\":null,\"faculty\":null,\"univer...           b1   \n",
       "6724                                                      []          NaN   \n",
       "\n",
       "           size_of_course  \n",
       "studentId                  \n",
       "5740                 3123  \n",
       "6956                 3123  \n",
       "11616                 421  \n",
       "11773                 421  \n",
       "6724                 3123  "
      ]
     },
     "execution_count": 48,
     "metadata": {},
     "output_type": "execute_result"
    }
   ],
   "source": [
    "train_data.join(pd.concat([train_data, test_data]).groupby(by='courseId').size().rename('size_of_course'), on='courseId').head()"
   ]
  },
  {
   "cell_type": "code",
   "execution_count": 49,
   "id": "expected-zoning",
   "metadata": {},
   "outputs": [
    {
     "data": {
      "text/plain": [
       "NaN                 5059\n",
       "a2                  1629\n",
       "b1                  1141\n",
       "a1                   957\n",
       "b2                   442\n",
       "a0                   224\n",
       "A2                   140\n",
       "a2+                  131\n",
       "B1                   119\n",
       "c1                   101\n",
       "B2                    70\n",
       "b1+                   57\n",
       "a1+                   46\n",
       "b2+                   36\n",
       "Intermediate          30\n",
       "A1                    29\n",
       "C1                    28\n",
       "A2+                   27\n",
       "c2                    18\n",
       "Pre-Intermediate      12\n",
       "Name: englishLevel, dtype: int64"
      ]
     },
     "execution_count": 49,
     "metadata": {},
     "output_type": "execute_result"
    }
   ],
   "source": [
    "train_data['englishLevel'].value_counts(dropna=False).head(20)"
   ]
  },
  {
   "cell_type": "code",
   "execution_count": 50,
   "id": "black-preview",
   "metadata": {
    "scrolled": false
   },
   "outputs": [
    {
     "data": {
      "text/html": [
       "<div>\n",
       "<style scoped>\n",
       "    .dataframe tbody tr th:only-of-type {\n",
       "        vertical-align: middle;\n",
       "    }\n",
       "\n",
       "    .dataframe tbody tr th {\n",
       "        vertical-align: top;\n",
       "    }\n",
       "\n",
       "    .dataframe thead th {\n",
       "        text-align: right;\n",
       "    }\n",
       "</style>\n",
       "<table border=\"1\" class=\"dataframe\">\n",
       "  <thead>\n",
       "    <tr style=\"text-align: right;\">\n",
       "      <th></th>\n",
       "      <th>courseId</th>\n",
       "      <th>createdDate</th>\n",
       "      <th>updatedDate</th>\n",
       "      <th>name</th>\n",
       "      <th>year</th>\n",
       "      <th>primarySkillId</th>\n",
       "      <th>primarySkillName</th>\n",
       "      <th>locationName</th>\n",
       "      <th>alias</th>\n",
       "      <th>completed</th>\n",
       "      <th>description</th>\n",
       "      <th>descriptionUrl</th>\n",
       "      <th>planned</th>\n",
       "      <th>courseStartDate</th>\n",
       "      <th>courseEndDate</th>\n",
       "      <th>fullName</th>\n",
       "      <th>registrationEndDate</th>\n",
       "      <th>inviteOnly</th>\n",
       "    </tr>\n",
       "  </thead>\n",
       "  <tbody>\n",
       "    <tr>\n",
       "      <th>0</th>\n",
       "      <td>16</td>\n",
       "      <td>2020-01-27 06:15:21.813898</td>\n",
       "      <td>2020-06-02 09:49:08.084615</td>\n",
       "      <td>RSS React 2020</td>\n",
       "      <td>NaN</td>\n",
       "      <td>javascript</td>\n",
       "      <td>JavaScript</td>\n",
       "      <td>NaN</td>\n",
       "      <td>react-2020-Q1</td>\n",
       "      <td>t</td>\n",
       "      <td>Курс по React/Redux</td>\n",
       "      <td>NaN</td>\n",
       "      <td>f</td>\n",
       "      <td>2020-02-05 06:12:15.345+00</td>\n",
       "      <td>2020-03-18 06:12:18.391+00</td>\n",
       "      <td>RSS React 2020</td>\n",
       "      <td>2020-02-09 06:12:31.757+00</td>\n",
       "      <td>t</td>\n",
       "    </tr>\n",
       "    <tr>\n",
       "      <th>1</th>\n",
       "      <td>23</td>\n",
       "      <td>2020-02-25 09:28:08.842897</td>\n",
       "      <td>2020-07-28 06:07:15.142387</td>\n",
       "      <td>TEST COURSE</td>\n",
       "      <td>NaN</td>\n",
       "      <td>javascript</td>\n",
       "      <td>JavaScript</td>\n",
       "      <td>NaN</td>\n",
       "      <td>test-course</td>\n",
       "      <td>f</td>\n",
       "      <td>TEST COURSE</td>\n",
       "      <td>NaN</td>\n",
       "      <td>f</td>\n",
       "      <td>2020-02-25 09:28:00.105+00</td>\n",
       "      <td>2020-08-06 09:28:01.698+00</td>\n",
       "      <td>TEST COURSE</td>\n",
       "      <td>NaN</td>\n",
       "      <td>t</td>\n",
       "    </tr>\n",
       "    <tr>\n",
       "      <th>2</th>\n",
       "      <td>18</td>\n",
       "      <td>2020-02-11 08:40:16.050523</td>\n",
       "      <td>2020-09-10 18:30:58.028305</td>\n",
       "      <td>iOS 2020</td>\n",
       "      <td>NaN</td>\n",
       "      <td>ios-obj-c</td>\n",
       "      <td>iOS Objective-C</td>\n",
       "      <td>NaN</td>\n",
       "      <td>ios-2020</td>\n",
       "      <td>f</td>\n",
       "      <td>iOS 2020 course</td>\n",
       "      <td>NaN</td>\n",
       "      <td>f</td>\n",
       "      <td>2020-02-17 08:39:56.164+00</td>\n",
       "      <td>2020-06-01 08:40:00.109+00</td>\n",
       "      <td>Rolling Scopes iOS 2020</td>\n",
       "      <td>2020-03-08 09:33:55.611+00</td>\n",
       "      <td>f</td>\n",
       "    </tr>\n",
       "  </tbody>\n",
       "</table>\n",
       "</div>"
      ],
      "text/plain": [
       "   courseId                 createdDate                 updatedDate  \\\n",
       "0        16  2020-01-27 06:15:21.813898  2020-06-02 09:49:08.084615   \n",
       "1        23  2020-02-25 09:28:08.842897  2020-07-28 06:07:15.142387   \n",
       "2        18  2020-02-11 08:40:16.050523  2020-09-10 18:30:58.028305   \n",
       "\n",
       "             name  year primarySkillId primarySkillName locationName  \\\n",
       "0  RSS React 2020   NaN     javascript       JavaScript          NaN   \n",
       "1     TEST COURSE   NaN     javascript       JavaScript          NaN   \n",
       "2        iOS 2020   NaN      ios-obj-c  iOS Objective-C          NaN   \n",
       "\n",
       "           alias completed          description descriptionUrl planned  \\\n",
       "0  react-2020-Q1         t  Курс по React/Redux            NaN       f   \n",
       "1    test-course         f          TEST COURSE            NaN       f   \n",
       "2       ios-2020         f      iOS 2020 course            NaN       f   \n",
       "\n",
       "              courseStartDate               courseEndDate  \\\n",
       "0  2020-02-05 06:12:15.345+00  2020-03-18 06:12:18.391+00   \n",
       "1  2020-02-25 09:28:00.105+00  2020-08-06 09:28:01.698+00   \n",
       "2  2020-02-17 08:39:56.164+00  2020-06-01 08:40:00.109+00   \n",
       "\n",
       "                  fullName         registrationEndDate inviteOnly  \n",
       "0           RSS React 2020  2020-02-09 06:12:31.757+00          t  \n",
       "1              TEST COURSE                         NaN          t  \n",
       "2  Rolling Scopes iOS 2020  2020-03-08 09:33:55.611+00          f  "
      ]
     },
     "execution_count": 50,
     "metadata": {},
     "output_type": "execute_result"
    }
   ],
   "source": [
    "courses_data = pd.read_csv('data/course.csv')\n",
    "courses_data.head(3)"
   ]
  },
  {
   "cell_type": "code",
   "execution_count": 51,
   "id": "corporate-bibliography",
   "metadata": {},
   "outputs": [
    {
     "data": {
      "text/plain": [
       "f    13\n",
       "t     8\n",
       "Name: inviteOnly, dtype: int64"
      ]
     },
     "execution_count": 51,
     "metadata": {},
     "output_type": "execute_result"
    }
   ],
   "source": [
    "courses_data['inviteOnly'].value_counts(dropna=False)"
   ]
  },
  {
   "cell_type": "code",
   "execution_count": 52,
   "id": "dressed-sampling",
   "metadata": {},
   "outputs": [
    {
     "data": {
      "text/plain": [
       "studentId\n",
       "5740     0\n",
       "6956     0\n",
       "11616    1\n",
       "11773    1\n",
       "6724     0\n",
       "Name: inviteOnly, dtype: int64"
      ]
     },
     "execution_count": 52,
     "metadata": {},
     "output_type": "execute_result"
    }
   ],
   "source": [
    "invite_only_course = train_data.join(courses_data[['inviteOnly', 'courseId']].set_index('courseId'), on='courseId')['inviteOnly'].replace({'f':0,'t':1})\n",
    "invite_only_course.head()"
   ]
  },
  {
   "cell_type": "code",
   "execution_count": 53,
   "id": "english-killing",
   "metadata": {
    "scrolled": true
   },
   "outputs": [
    {
     "data": {
      "text/html": [
       "<div>\n",
       "<style scoped>\n",
       "    .dataframe tbody tr th:only-of-type {\n",
       "        vertical-align: middle;\n",
       "    }\n",
       "\n",
       "    .dataframe tbody tr th {\n",
       "        vertical-align: top;\n",
       "    }\n",
       "\n",
       "    .dataframe thead th {\n",
       "        text-align: right;\n",
       "    }\n",
       "</style>\n",
       "<table border=\"1\" class=\"dataframe\">\n",
       "  <thead>\n",
       "    <tr style=\"text-align: right;\">\n",
       "      <th></th>\n",
       "      <th>createdDate</th>\n",
       "      <th>updatedDate</th>\n",
       "      <th>name</th>\n",
       "      <th>descriptionUrl</th>\n",
       "      <th>description</th>\n",
       "      <th>verification</th>\n",
       "      <th>githubPrRequired</th>\n",
       "      <th>useJury</th>\n",
       "      <th>allowStudentArtefacts</th>\n",
       "      <th>githubRepoName</th>\n",
       "      <th>sourceGithubRepoUrl</th>\n",
       "      <th>type</th>\n",
       "      <th>tags</th>\n",
       "      <th>discipline</th>\n",
       "      <th>attributes</th>\n",
       "      <th>courseTaskId</th>\n",
       "      <th>createdDateCourseTask</th>\n",
       "      <th>updatedDateCourseTask</th>\n",
       "      <th>mentorStartDate</th>\n",
       "      <th>mentorEndDate</th>\n",
       "      <th>maxScore</th>\n",
       "      <th>stageId</th>\n",
       "      <th>scoreWeight</th>\n",
       "      <th>checker</th>\n",
       "      <th>taskOwnerId</th>\n",
       "      <th>studentStartDate</th>\n",
       "      <th>studentEndDate</th>\n",
       "      <th>courseId</th>\n",
       "      <th>pairsCount</th>\n",
       "      <th>typeCourseTask</th>\n",
       "      <th>disabled</th>\n",
       "      <th>createdDateCourse</th>\n",
       "      <th>updatedDateCourse</th>\n",
       "      <th>nameCourse</th>\n",
       "      <th>year</th>\n",
       "      <th>primarySkillId</th>\n",
       "      <th>primarySkillName</th>\n",
       "      <th>locationName</th>\n",
       "      <th>alias</th>\n",
       "      <th>completed</th>\n",
       "      <th>descriptionCourse</th>\n",
       "      <th>descriptionUrlCourse</th>\n",
       "      <th>planned</th>\n",
       "      <th>courseStartDate</th>\n",
       "      <th>courseEndDate</th>\n",
       "      <th>fullName</th>\n",
       "      <th>registrationEndDate</th>\n",
       "      <th>inviteOnly</th>\n",
       "    </tr>\n",
       "    <tr>\n",
       "      <th>taskId</th>\n",
       "      <th></th>\n",
       "      <th></th>\n",
       "      <th></th>\n",
       "      <th></th>\n",
       "      <th></th>\n",
       "      <th></th>\n",
       "      <th></th>\n",
       "      <th></th>\n",
       "      <th></th>\n",
       "      <th></th>\n",
       "      <th></th>\n",
       "      <th></th>\n",
       "      <th></th>\n",
       "      <th></th>\n",
       "      <th></th>\n",
       "      <th></th>\n",
       "      <th></th>\n",
       "      <th></th>\n",
       "      <th></th>\n",
       "      <th></th>\n",
       "      <th></th>\n",
       "      <th></th>\n",
       "      <th></th>\n",
       "      <th></th>\n",
       "      <th></th>\n",
       "      <th></th>\n",
       "      <th></th>\n",
       "      <th></th>\n",
       "      <th></th>\n",
       "      <th></th>\n",
       "      <th></th>\n",
       "      <th></th>\n",
       "      <th></th>\n",
       "      <th></th>\n",
       "      <th></th>\n",
       "      <th></th>\n",
       "      <th></th>\n",
       "      <th></th>\n",
       "      <th></th>\n",
       "      <th></th>\n",
       "      <th></th>\n",
       "      <th></th>\n",
       "      <th></th>\n",
       "      <th></th>\n",
       "      <th></th>\n",
       "      <th></th>\n",
       "      <th></th>\n",
       "      <th></th>\n",
       "    </tr>\n",
       "  </thead>\n",
       "  <tbody>\n",
       "    <tr>\n",
       "      <th>413</th>\n",
       "      <td>2019-08-29 10:57:34.732592</td>\n",
       "      <td>2019-11-11 18:19:01.013044</td>\n",
       "      <td>ST JS Test</td>\n",
       "      <td>http://learn.javascript.ru/</td>\n",
       "      <td>NaN</td>\n",
       "      <td>manual</td>\n",
       "      <td>f</td>\n",
       "      <td>f</td>\n",
       "      <td>f</td>\n",
       "      <td>NaN</td>\n",
       "      <td>NaN</td>\n",
       "      <td>test</td>\n",
       "      <td>NaN</td>\n",
       "      <td>NaN</td>\n",
       "      <td>{}</td>\n",
       "      <td>296</td>\n",
       "      <td>2019-08-29 11:01:40.171488</td>\n",
       "      <td>2019-08-29 13:11:10.876319</td>\n",
       "      <td>NaN</td>\n",
       "      <td>NaN</td>\n",
       "      <td>40.0</td>\n",
       "      <td>16.0</td>\n",
       "      <td>1.0</td>\n",
       "      <td>mentor</td>\n",
       "      <td>NaN</td>\n",
       "      <td>2019-04-10 00:00:00+00</td>\n",
       "      <td>2019-04-10 00:00:00+00</td>\n",
       "      <td>12</td>\n",
       "      <td>NaN</td>\n",
       "      <td>NaN</td>\n",
       "      <td>f</td>\n",
       "      <td>2019-08-29 07:26:02.025829</td>\n",
       "      <td>2019-10-25 17:20:30.9813</td>\n",
       "      <td>RS-ST 2019 Q1</td>\n",
       "      <td>NaN</td>\n",
       "      <td>javascript</td>\n",
       "      <td>JavaScript</td>\n",
       "      <td>NaN</td>\n",
       "      <td>rs-st-2019-q1</td>\n",
       "      <td>t</td>\n",
       "      <td>RS Short Track 2019 Q1</td>\n",
       "      <td>NaN</td>\n",
       "      <td>f</td>\n",
       "      <td>2019-04-08 07:23:45.643+00</td>\n",
       "      <td>2019-07-10 07:23:45.643+00</td>\n",
       "      <td>Rolling Scopes School 2019 Q1: Short Track</td>\n",
       "      <td>NaN</td>\n",
       "      <td>t</td>\n",
       "    </tr>\n",
       "    <tr>\n",
       "      <th>253</th>\n",
       "      <td>2019-05-17 13:02:30.233767</td>\n",
       "      <td>2019-05-17 13:02:30.233767</td>\n",
       "      <td>tdd</td>\n",
       "      <td>NaN</td>\n",
       "      <td>NaN</td>\n",
       "      <td>manual</td>\n",
       "      <td>NaN</td>\n",
       "      <td>f</td>\n",
       "      <td>f</td>\n",
       "      <td>NaN</td>\n",
       "      <td>NaN</td>\n",
       "      <td>NaN</td>\n",
       "      <td>NaN</td>\n",
       "      <td>NaN</td>\n",
       "      <td>{}</td>\n",
       "      <td>292</td>\n",
       "      <td>2019-08-29 10:30:11.446774</td>\n",
       "      <td>2019-08-29 13:09:13.674882</td>\n",
       "      <td>NaN</td>\n",
       "      <td>NaN</td>\n",
       "      <td>100.0</td>\n",
       "      <td>16.0</td>\n",
       "      <td>1.0</td>\n",
       "      <td>mentor</td>\n",
       "      <td>NaN</td>\n",
       "      <td>2019-05-24 00:00:00+00</td>\n",
       "      <td>2019-05-24 00:00:00+00</td>\n",
       "      <td>12</td>\n",
       "      <td>NaN</td>\n",
       "      <td>NaN</td>\n",
       "      <td>f</td>\n",
       "      <td>2019-08-29 07:26:02.025829</td>\n",
       "      <td>2019-10-25 17:20:30.9813</td>\n",
       "      <td>RS-ST 2019 Q1</td>\n",
       "      <td>NaN</td>\n",
       "      <td>javascript</td>\n",
       "      <td>JavaScript</td>\n",
       "      <td>NaN</td>\n",
       "      <td>rs-st-2019-q1</td>\n",
       "      <td>t</td>\n",
       "      <td>RS Short Track 2019 Q1</td>\n",
       "      <td>NaN</td>\n",
       "      <td>f</td>\n",
       "      <td>2019-04-08 07:23:45.643+00</td>\n",
       "      <td>2019-07-10 07:23:45.643+00</td>\n",
       "      <td>Rolling Scopes School 2019 Q1: Short Track</td>\n",
       "      <td>NaN</td>\n",
       "      <td>t</td>\n",
       "    </tr>\n",
       "  </tbody>\n",
       "</table>\n",
       "</div>"
      ],
      "text/plain": [
       "                       createdDate                 updatedDate        name  \\\n",
       "taskId                                                                       \n",
       "413     2019-08-29 10:57:34.732592  2019-11-11 18:19:01.013044  ST JS Test   \n",
       "253     2019-05-17 13:02:30.233767  2019-05-17 13:02:30.233767         tdd   \n",
       "\n",
       "                     descriptionUrl description verification githubPrRequired  \\\n",
       "taskId                                                                          \n",
       "413     http://learn.javascript.ru/         NaN       manual                f   \n",
       "253                             NaN         NaN       manual              NaN   \n",
       "\n",
       "       useJury allowStudentArtefacts githubRepoName sourceGithubRepoUrl  type  \\\n",
       "taskId                                                                          \n",
       "413          f                     f            NaN                 NaN  test   \n",
       "253          f                     f            NaN                 NaN   NaN   \n",
       "\n",
       "       tags discipline attributes  courseTaskId       createdDateCourseTask  \\\n",
       "taskId                                                                        \n",
       "413     NaN        NaN         {}           296  2019-08-29 11:01:40.171488   \n",
       "253     NaN        NaN         {}           292  2019-08-29 10:30:11.446774   \n",
       "\n",
       "             updatedDateCourseTask  mentorStartDate  mentorEndDate  maxScore  \\\n",
       "taskId                                                                         \n",
       "413     2019-08-29 13:11:10.876319              NaN            NaN      40.0   \n",
       "253     2019-08-29 13:09:13.674882              NaN            NaN     100.0   \n",
       "\n",
       "        stageId  scoreWeight checker  taskOwnerId        studentStartDate  \\\n",
       "taskId                                                                      \n",
       "413        16.0          1.0  mentor          NaN  2019-04-10 00:00:00+00   \n",
       "253        16.0          1.0  mentor          NaN  2019-05-24 00:00:00+00   \n",
       "\n",
       "                studentEndDate  courseId  pairsCount typeCourseTask disabled  \\\n",
       "taskId                                                                         \n",
       "413     2019-04-10 00:00:00+00        12         NaN            NaN        f   \n",
       "253     2019-05-24 00:00:00+00        12         NaN            NaN        f   \n",
       "\n",
       "                 createdDateCourse         updatedDateCourse     nameCourse  \\\n",
       "taskId                                                                        \n",
       "413     2019-08-29 07:26:02.025829  2019-10-25 17:20:30.9813  RS-ST 2019 Q1   \n",
       "253     2019-08-29 07:26:02.025829  2019-10-25 17:20:30.9813  RS-ST 2019 Q1   \n",
       "\n",
       "        year primarySkillId primarySkillName locationName          alias  \\\n",
       "taskId                                                                     \n",
       "413      NaN     javascript       JavaScript          NaN  rs-st-2019-q1   \n",
       "253      NaN     javascript       JavaScript          NaN  rs-st-2019-q1   \n",
       "\n",
       "       completed       descriptionCourse descriptionUrlCourse planned  \\\n",
       "taskId                                                                  \n",
       "413            t  RS Short Track 2019 Q1                  NaN       f   \n",
       "253            t  RS Short Track 2019 Q1                  NaN       f   \n",
       "\n",
       "                   courseStartDate               courseEndDate  \\\n",
       "taskId                                                           \n",
       "413     2019-04-08 07:23:45.643+00  2019-07-10 07:23:45.643+00   \n",
       "253     2019-04-08 07:23:45.643+00  2019-07-10 07:23:45.643+00   \n",
       "\n",
       "                                          fullName registrationEndDate  \\\n",
       "taskId                                                                   \n",
       "413     Rolling Scopes School 2019 Q1: Short Track                 NaN   \n",
       "253     Rolling Scopes School 2019 Q1: Short Track                 NaN   \n",
       "\n",
       "       inviteOnly  \n",
       "taskId             \n",
       "413             t  \n",
       "253             t  "
      ]
     },
     "execution_count": 53,
     "metadata": {},
     "output_type": "execute_result"
    }
   ],
   "source": [
    "task_data = pd.read_csv('data/task.csv', index_col='taskId')\n",
    "task_data.head(2)"
   ]
  },
  {
   "cell_type": "markdown",
   "id": "concerned-literacy",
   "metadata": {},
   "source": [
    "Sum of student scores"
   ]
  },
  {
   "cell_type": "code",
   "execution_count": 54,
   "id": "designing-kenya",
   "metadata": {
    "scrolled": true
   },
   "outputs": [
    {
     "data": {
      "text/plain": [
       "studentId\n",
       "1        1544\n",
       "2         590\n",
       "3           0\n",
       "4         255\n",
       "5           8\n",
       "         ... \n",
       "15671     835\n",
       "15691    1127\n",
       "15730     220\n",
       "15911     805\n",
       "20893      60\n",
       "Name: score, Length: 8430, dtype: int64"
      ]
     },
     "execution_count": 54,
     "metadata": {},
     "output_type": "execute_result"
    }
   ],
   "source": [
    "task_results_data.groupby(by='studentId')['score'].sum()"
   ]
  },
  {
   "cell_type": "code",
   "execution_count": 55,
   "id": "dried-hybrid",
   "metadata": {},
   "outputs": [
    {
     "data": {
      "text/plain": [
       "[]                                                                                                                                                                                                                                                                                                                               70257\n",
       "[{\"authorId\":1202,\"score\":30,\"dateTime\":1576780831787,\"comment\":\"Not very good English, confidant on the stage, reading from the paper 100% of the presentation. good answers on the questions.\"},{\"authorId\":677,\"score\":38,\"dateTime\":1576836448474,\"comment\":\"nice pronunciation, but mostly reading instead of talking\"}]        1\n",
       "[{\"authorId\":4152,\"score\":120,\"dateTime\":1565417111765,\"comment\":\"\"}]                                                                                                                                                                                                                                                                1\n",
       "Name: juryScores, dtype: int64"
      ]
     },
     "execution_count": 55,
     "metadata": {},
     "output_type": "execute_result"
    }
   ],
   "source": [
    "task_results_data['juryScores'].value_counts().head(3)"
   ]
  },
  {
   "cell_type": "code",
   "execution_count": 56,
   "id": "abroad-valuable",
   "metadata": {},
   "outputs": [
    {
     "data": {
      "text/plain": [
       "studentId\n",
       "5740     20.0\n",
       "6956     17.0\n",
       "11616     0.0\n",
       "11773     0.0\n",
       "6724     26.0\n",
       "         ... \n",
       "13213    10.0\n",
       "12819     0.0\n",
       "12707     0.0\n",
       "12863     1.0\n",
       "12852     1.0\n",
       "Name: num_tasks, Length: 10471, dtype: float64"
      ]
     },
     "execution_count": 56,
     "metadata": {},
     "output_type": "execute_result"
    }
   ],
   "source": [
    "num_tasks = train_data.join(task_results_data.groupby(by='studentId')['score'].size().rename('num_tasks'))['num_tasks'].fillna(0)\n",
    "num_tasks"
   ]
  },
  {
   "cell_type": "code",
   "execution_count": 57,
   "id": "fifty-procurement",
   "metadata": {
    "scrolled": false
   },
   "outputs": [
    {
     "data": {
      "text/html": [
       "<div>\n",
       "<style scoped>\n",
       "    .dataframe tbody tr th:only-of-type {\n",
       "        vertical-align: middle;\n",
       "    }\n",
       "\n",
       "    .dataframe tbody tr th {\n",
       "        vertical-align: top;\n",
       "    }\n",
       "\n",
       "    .dataframe thead th {\n",
       "        text-align: right;\n",
       "    }\n",
       "</style>\n",
       "<table border=\"1\" class=\"dataframe\">\n",
       "  <thead>\n",
       "    <tr style=\"text-align: right;\">\n",
       "      <th></th>\n",
       "      <th>size_of_course</th>\n",
       "      <th>num_courses_for_student</th>\n",
       "      <th>sum_of_scores</th>\n",
       "      <th>invite_only_course</th>\n",
       "      <th>num_tasks</th>\n",
       "      <th>repository_last_activity_na</th>\n",
       "      <th>repository_na</th>\n",
       "      <th>has_mentor</th>\n",
       "      <th>has_education_history</th>\n",
       "      <th>english_level_a0</th>\n",
       "      <th>english_level_a1</th>\n",
       "      <th>english_level_a2</th>\n",
       "      <th>english_level_b1</th>\n",
       "      <th>english_level_b2</th>\n",
       "      <th>english_level_c1</th>\n",
       "      <th>english_level_c2</th>\n",
       "      <th>english_level_isna</th>\n",
       "      <th>grad_year_group_grad_year_0</th>\n",
       "      <th>grad_year_group_grad_year_1</th>\n",
       "      <th>grad_year_group_grad_year_2</th>\n",
       "      <th>grad_year_group_grad_year_3</th>\n",
       "      <th>grad_year_group_grad_year_4</th>\n",
       "      <th>grad_year_group_grad_year_na</th>\n",
       "      <th>days_from_update_updated_days_1</th>\n",
       "      <th>days_from_update_updated_days_2</th>\n",
       "      <th>days_from_update_updated_days_3</th>\n",
       "    </tr>\n",
       "    <tr>\n",
       "      <th>studentId</th>\n",
       "      <th></th>\n",
       "      <th></th>\n",
       "      <th></th>\n",
       "      <th></th>\n",
       "      <th></th>\n",
       "      <th></th>\n",
       "      <th></th>\n",
       "      <th></th>\n",
       "      <th></th>\n",
       "      <th></th>\n",
       "      <th></th>\n",
       "      <th></th>\n",
       "      <th></th>\n",
       "      <th></th>\n",
       "      <th></th>\n",
       "      <th></th>\n",
       "      <th></th>\n",
       "      <th></th>\n",
       "      <th></th>\n",
       "      <th></th>\n",
       "      <th></th>\n",
       "      <th></th>\n",
       "      <th></th>\n",
       "      <th></th>\n",
       "      <th></th>\n",
       "      <th></th>\n",
       "    </tr>\n",
       "  </thead>\n",
       "  <tbody>\n",
       "    <tr>\n",
       "      <th>5740</th>\n",
       "      <td>3123</td>\n",
       "      <td>1</td>\n",
       "      <td>1646.0</td>\n",
       "      <td>0</td>\n",
       "      <td>20.0</td>\n",
       "      <td>1.0</td>\n",
       "      <td>0.0</td>\n",
       "      <td>1.0</td>\n",
       "      <td>0.0</td>\n",
       "      <td>0</td>\n",
       "      <td>0</td>\n",
       "      <td>0</td>\n",
       "      <td>0</td>\n",
       "      <td>0</td>\n",
       "      <td>0</td>\n",
       "      <td>0</td>\n",
       "      <td>1</td>\n",
       "      <td>0</td>\n",
       "      <td>0</td>\n",
       "      <td>0</td>\n",
       "      <td>0</td>\n",
       "      <td>0</td>\n",
       "      <td>1</td>\n",
       "      <td>0</td>\n",
       "      <td>1</td>\n",
       "      <td>0</td>\n",
       "    </tr>\n",
       "    <tr>\n",
       "      <th>6956</th>\n",
       "      <td>3123</td>\n",
       "      <td>1</td>\n",
       "      <td>1482.0</td>\n",
       "      <td>0</td>\n",
       "      <td>17.0</td>\n",
       "      <td>1.0</td>\n",
       "      <td>0.0</td>\n",
       "      <td>1.0</td>\n",
       "      <td>0.0</td>\n",
       "      <td>0</td>\n",
       "      <td>0</td>\n",
       "      <td>0</td>\n",
       "      <td>0</td>\n",
       "      <td>0</td>\n",
       "      <td>0</td>\n",
       "      <td>0</td>\n",
       "      <td>1</td>\n",
       "      <td>0</td>\n",
       "      <td>0</td>\n",
       "      <td>0</td>\n",
       "      <td>0</td>\n",
       "      <td>0</td>\n",
       "      <td>1</td>\n",
       "      <td>0</td>\n",
       "      <td>1</td>\n",
       "      <td>0</td>\n",
       "    </tr>\n",
       "    <tr>\n",
       "      <th>11616</th>\n",
       "      <td>421</td>\n",
       "      <td>1</td>\n",
       "      <td>0.0</td>\n",
       "      <td>1</td>\n",
       "      <td>0.0</td>\n",
       "      <td>1.0</td>\n",
       "      <td>1.0</td>\n",
       "      <td>0.0</td>\n",
       "      <td>0.0</td>\n",
       "      <td>0</td>\n",
       "      <td>0</td>\n",
       "      <td>0</td>\n",
       "      <td>0</td>\n",
       "      <td>0</td>\n",
       "      <td>0</td>\n",
       "      <td>0</td>\n",
       "      <td>1</td>\n",
       "      <td>0</td>\n",
       "      <td>0</td>\n",
       "      <td>0</td>\n",
       "      <td>0</td>\n",
       "      <td>0</td>\n",
       "      <td>1</td>\n",
       "      <td>1</td>\n",
       "      <td>0</td>\n",
       "      <td>0</td>\n",
       "    </tr>\n",
       "    <tr>\n",
       "      <th>11773</th>\n",
       "      <td>421</td>\n",
       "      <td>1</td>\n",
       "      <td>0.0</td>\n",
       "      <td>1</td>\n",
       "      <td>0.0</td>\n",
       "      <td>1.0</td>\n",
       "      <td>1.0</td>\n",
       "      <td>0.0</td>\n",
       "      <td>1.0</td>\n",
       "      <td>0</td>\n",
       "      <td>0</td>\n",
       "      <td>0</td>\n",
       "      <td>1</td>\n",
       "      <td>0</td>\n",
       "      <td>0</td>\n",
       "      <td>0</td>\n",
       "      <td>0</td>\n",
       "      <td>0</td>\n",
       "      <td>0</td>\n",
       "      <td>0</td>\n",
       "      <td>0</td>\n",
       "      <td>0</td>\n",
       "      <td>1</td>\n",
       "      <td>1</td>\n",
       "      <td>0</td>\n",
       "      <td>0</td>\n",
       "    </tr>\n",
       "    <tr>\n",
       "      <th>6724</th>\n",
       "      <td>3123</td>\n",
       "      <td>5</td>\n",
       "      <td>2015.0</td>\n",
       "      <td>0</td>\n",
       "      <td>26.0</td>\n",
       "      <td>1.0</td>\n",
       "      <td>0.0</td>\n",
       "      <td>1.0</td>\n",
       "      <td>0.0</td>\n",
       "      <td>0</td>\n",
       "      <td>0</td>\n",
       "      <td>0</td>\n",
       "      <td>0</td>\n",
       "      <td>0</td>\n",
       "      <td>0</td>\n",
       "      <td>0</td>\n",
       "      <td>1</td>\n",
       "      <td>0</td>\n",
       "      <td>0</td>\n",
       "      <td>0</td>\n",
       "      <td>0</td>\n",
       "      <td>0</td>\n",
       "      <td>1</td>\n",
       "      <td>0</td>\n",
       "      <td>1</td>\n",
       "      <td>0</td>\n",
       "    </tr>\n",
       "    <tr>\n",
       "      <th>...</th>\n",
       "      <td>...</td>\n",
       "      <td>...</td>\n",
       "      <td>...</td>\n",
       "      <td>...</td>\n",
       "      <td>...</td>\n",
       "      <td>...</td>\n",
       "      <td>...</td>\n",
       "      <td>...</td>\n",
       "      <td>...</td>\n",
       "      <td>...</td>\n",
       "      <td>...</td>\n",
       "      <td>...</td>\n",
       "      <td>...</td>\n",
       "      <td>...</td>\n",
       "      <td>...</td>\n",
       "      <td>...</td>\n",
       "      <td>...</td>\n",
       "      <td>...</td>\n",
       "      <td>...</td>\n",
       "      <td>...</td>\n",
       "      <td>...</td>\n",
       "      <td>...</td>\n",
       "      <td>...</td>\n",
       "      <td>...</td>\n",
       "      <td>...</td>\n",
       "      <td>...</td>\n",
       "    </tr>\n",
       "    <tr>\n",
       "      <th>13213</th>\n",
       "      <td>388</td>\n",
       "      <td>1</td>\n",
       "      <td>3100.0</td>\n",
       "      <td>0</td>\n",
       "      <td>10.0</td>\n",
       "      <td>0.0</td>\n",
       "      <td>0.0</td>\n",
       "      <td>1.0</td>\n",
       "      <td>0.0</td>\n",
       "      <td>0</td>\n",
       "      <td>0</td>\n",
       "      <td>1</td>\n",
       "      <td>0</td>\n",
       "      <td>0</td>\n",
       "      <td>0</td>\n",
       "      <td>0</td>\n",
       "      <td>0</td>\n",
       "      <td>0</td>\n",
       "      <td>0</td>\n",
       "      <td>0</td>\n",
       "      <td>0</td>\n",
       "      <td>0</td>\n",
       "      <td>1</td>\n",
       "      <td>0</td>\n",
       "      <td>0</td>\n",
       "      <td>1</td>\n",
       "    </tr>\n",
       "    <tr>\n",
       "      <th>12819</th>\n",
       "      <td>388</td>\n",
       "      <td>1</td>\n",
       "      <td>0.0</td>\n",
       "      <td>0</td>\n",
       "      <td>0.0</td>\n",
       "      <td>1.0</td>\n",
       "      <td>1.0</td>\n",
       "      <td>0.0</td>\n",
       "      <td>0.0</td>\n",
       "      <td>0</td>\n",
       "      <td>0</td>\n",
       "      <td>0</td>\n",
       "      <td>0</td>\n",
       "      <td>0</td>\n",
       "      <td>0</td>\n",
       "      <td>0</td>\n",
       "      <td>1</td>\n",
       "      <td>0</td>\n",
       "      <td>0</td>\n",
       "      <td>0</td>\n",
       "      <td>0</td>\n",
       "      <td>0</td>\n",
       "      <td>1</td>\n",
       "      <td>0</td>\n",
       "      <td>0</td>\n",
       "      <td>1</td>\n",
       "    </tr>\n",
       "    <tr>\n",
       "      <th>12707</th>\n",
       "      <td>388</td>\n",
       "      <td>2</td>\n",
       "      <td>0.0</td>\n",
       "      <td>0</td>\n",
       "      <td>0.0</td>\n",
       "      <td>1.0</td>\n",
       "      <td>1.0</td>\n",
       "      <td>0.0</td>\n",
       "      <td>0.0</td>\n",
       "      <td>0</td>\n",
       "      <td>0</td>\n",
       "      <td>0</td>\n",
       "      <td>0</td>\n",
       "      <td>0</td>\n",
       "      <td>0</td>\n",
       "      <td>0</td>\n",
       "      <td>1</td>\n",
       "      <td>0</td>\n",
       "      <td>0</td>\n",
       "      <td>0</td>\n",
       "      <td>0</td>\n",
       "      <td>0</td>\n",
       "      <td>1</td>\n",
       "      <td>0</td>\n",
       "      <td>0</td>\n",
       "      <td>1</td>\n",
       "    </tr>\n",
       "    <tr>\n",
       "      <th>12863</th>\n",
       "      <td>388</td>\n",
       "      <td>1</td>\n",
       "      <td>100.0</td>\n",
       "      <td>0</td>\n",
       "      <td>1.0</td>\n",
       "      <td>1.0</td>\n",
       "      <td>1.0</td>\n",
       "      <td>0.0</td>\n",
       "      <td>0.0</td>\n",
       "      <td>0</td>\n",
       "      <td>0</td>\n",
       "      <td>0</td>\n",
       "      <td>0</td>\n",
       "      <td>0</td>\n",
       "      <td>0</td>\n",
       "      <td>0</td>\n",
       "      <td>1</td>\n",
       "      <td>0</td>\n",
       "      <td>0</td>\n",
       "      <td>0</td>\n",
       "      <td>0</td>\n",
       "      <td>0</td>\n",
       "      <td>1</td>\n",
       "      <td>0</td>\n",
       "      <td>0</td>\n",
       "      <td>1</td>\n",
       "    </tr>\n",
       "    <tr>\n",
       "      <th>12852</th>\n",
       "      <td>388</td>\n",
       "      <td>10</td>\n",
       "      <td>100.0</td>\n",
       "      <td>0</td>\n",
       "      <td>1.0</td>\n",
       "      <td>1.0</td>\n",
       "      <td>1.0</td>\n",
       "      <td>0.0</td>\n",
       "      <td>0.0</td>\n",
       "      <td>0</td>\n",
       "      <td>0</td>\n",
       "      <td>0</td>\n",
       "      <td>0</td>\n",
       "      <td>0</td>\n",
       "      <td>0</td>\n",
       "      <td>0</td>\n",
       "      <td>1</td>\n",
       "      <td>0</td>\n",
       "      <td>0</td>\n",
       "      <td>0</td>\n",
       "      <td>0</td>\n",
       "      <td>0</td>\n",
       "      <td>1</td>\n",
       "      <td>0</td>\n",
       "      <td>0</td>\n",
       "      <td>1</td>\n",
       "    </tr>\n",
       "  </tbody>\n",
       "</table>\n",
       "<p>10471 rows × 26 columns</p>\n",
       "</div>"
      ],
      "text/plain": [
       "           size_of_course  num_courses_for_student  sum_of_scores  \\\n",
       "studentId                                                           \n",
       "5740                 3123                        1         1646.0   \n",
       "6956                 3123                        1         1482.0   \n",
       "11616                 421                        1            0.0   \n",
       "11773                 421                        1            0.0   \n",
       "6724                 3123                        5         2015.0   \n",
       "...                   ...                      ...            ...   \n",
       "13213                 388                        1         3100.0   \n",
       "12819                 388                        1            0.0   \n",
       "12707                 388                        2            0.0   \n",
       "12863                 388                        1          100.0   \n",
       "12852                 388                       10          100.0   \n",
       "\n",
       "           invite_only_course  num_tasks  repository_last_activity_na  \\\n",
       "studentId                                                               \n",
       "5740                        0       20.0                          1.0   \n",
       "6956                        0       17.0                          1.0   \n",
       "11616                       1        0.0                          1.0   \n",
       "11773                       1        0.0                          1.0   \n",
       "6724                        0       26.0                          1.0   \n",
       "...                       ...        ...                          ...   \n",
       "13213                       0       10.0                          0.0   \n",
       "12819                       0        0.0                          1.0   \n",
       "12707                       0        0.0                          1.0   \n",
       "12863                       0        1.0                          1.0   \n",
       "12852                       0        1.0                          1.0   \n",
       "\n",
       "           repository_na  has_mentor  has_education_history  english_level_a0  \\\n",
       "studentId                                                                       \n",
       "5740                 0.0         1.0                    0.0                 0   \n",
       "6956                 0.0         1.0                    0.0                 0   \n",
       "11616                1.0         0.0                    0.0                 0   \n",
       "11773                1.0         0.0                    1.0                 0   \n",
       "6724                 0.0         1.0                    0.0                 0   \n",
       "...                  ...         ...                    ...               ...   \n",
       "13213                0.0         1.0                    0.0                 0   \n",
       "12819                1.0         0.0                    0.0                 0   \n",
       "12707                1.0         0.0                    0.0                 0   \n",
       "12863                1.0         0.0                    0.0                 0   \n",
       "12852                1.0         0.0                    0.0                 0   \n",
       "\n",
       "           english_level_a1  english_level_a2  english_level_b1  \\\n",
       "studentId                                                         \n",
       "5740                      0                 0                 0   \n",
       "6956                      0                 0                 0   \n",
       "11616                     0                 0                 0   \n",
       "11773                     0                 0                 1   \n",
       "6724                      0                 0                 0   \n",
       "...                     ...               ...               ...   \n",
       "13213                     0                 1                 0   \n",
       "12819                     0                 0                 0   \n",
       "12707                     0                 0                 0   \n",
       "12863                     0                 0                 0   \n",
       "12852                     0                 0                 0   \n",
       "\n",
       "           english_level_b2  english_level_c1  english_level_c2  \\\n",
       "studentId                                                         \n",
       "5740                      0                 0                 0   \n",
       "6956                      0                 0                 0   \n",
       "11616                     0                 0                 0   \n",
       "11773                     0                 0                 0   \n",
       "6724                      0                 0                 0   \n",
       "...                     ...               ...               ...   \n",
       "13213                     0                 0                 0   \n",
       "12819                     0                 0                 0   \n",
       "12707                     0                 0                 0   \n",
       "12863                     0                 0                 0   \n",
       "12852                     0                 0                 0   \n",
       "\n",
       "           english_level_isna  grad_year_group_grad_year_0  \\\n",
       "studentId                                                    \n",
       "5740                        1                            0   \n",
       "6956                        1                            0   \n",
       "11616                       1                            0   \n",
       "11773                       0                            0   \n",
       "6724                        1                            0   \n",
       "...                       ...                          ...   \n",
       "13213                       0                            0   \n",
       "12819                       1                            0   \n",
       "12707                       1                            0   \n",
       "12863                       1                            0   \n",
       "12852                       1                            0   \n",
       "\n",
       "           grad_year_group_grad_year_1  grad_year_group_grad_year_2  \\\n",
       "studentId                                                             \n",
       "5740                                 0                            0   \n",
       "6956                                 0                            0   \n",
       "11616                                0                            0   \n",
       "11773                                0                            0   \n",
       "6724                                 0                            0   \n",
       "...                                ...                          ...   \n",
       "13213                                0                            0   \n",
       "12819                                0                            0   \n",
       "12707                                0                            0   \n",
       "12863                                0                            0   \n",
       "12852                                0                            0   \n",
       "\n",
       "           grad_year_group_grad_year_3  grad_year_group_grad_year_4  \\\n",
       "studentId                                                             \n",
       "5740                                 0                            0   \n",
       "6956                                 0                            0   \n",
       "11616                                0                            0   \n",
       "11773                                0                            0   \n",
       "6724                                 0                            0   \n",
       "...                                ...                          ...   \n",
       "13213                                0                            0   \n",
       "12819                                0                            0   \n",
       "12707                                0                            0   \n",
       "12863                                0                            0   \n",
       "12852                                0                            0   \n",
       "\n",
       "           grad_year_group_grad_year_na  days_from_update_updated_days_1  \\\n",
       "studentId                                                                  \n",
       "5740                                  1                                0   \n",
       "6956                                  1                                0   \n",
       "11616                                 1                                1   \n",
       "11773                                 1                                1   \n",
       "6724                                  1                                0   \n",
       "...                                 ...                              ...   \n",
       "13213                                 1                                0   \n",
       "12819                                 1                                0   \n",
       "12707                                 1                                0   \n",
       "12863                                 1                                0   \n",
       "12852                                 1                                0   \n",
       "\n",
       "           days_from_update_updated_days_2  days_from_update_updated_days_3  \n",
       "studentId                                                                    \n",
       "5740                                     1                                0  \n",
       "6956                                     1                                0  \n",
       "11616                                    0                                0  \n",
       "11773                                    0                                0  \n",
       "6724                                     1                                0  \n",
       "...                                    ...                              ...  \n",
       "13213                                    0                                1  \n",
       "12819                                    0                                1  \n",
       "12707                                    0                                1  \n",
       "12863                                    0                                1  \n",
       "12852                                    0                                1  \n",
       "\n",
       "[10471 rows x 26 columns]"
      ]
     },
     "execution_count": 57,
     "metadata": {},
     "output_type": "execute_result"
    }
   ],
   "source": [
    "features_train = get_features(train_data)\n",
    "features_test = get_features(test_data)\n",
    "features_train"
   ]
  },
  {
   "cell_type": "code",
   "execution_count": 58,
   "id": "entire-structure",
   "metadata": {},
   "outputs": [
    {
     "data": {
      "text/plain": [
       "studentId\n",
       "12914    10\n",
       "15107    10\n",
       "15106    10\n",
       "15321     7\n",
       "9204      7\n",
       "         ..\n",
       "890       1\n",
       "5282      1\n",
       "6937      1\n",
       "13365     1\n",
       "15012     1\n",
       "Name: num_courses_for_student, Length: 2991, dtype: int64"
      ]
     },
     "execution_count": 58,
     "metadata": {},
     "output_type": "execute_result"
    }
   ],
   "source": [
    "features_test['num_courses_for_student'].sort_values(ascending=False)"
   ]
  },
  {
   "cell_type": "code",
   "execution_count": 59,
   "id": "second-facial",
   "metadata": {},
   "outputs": [
    {
     "name": "stdout",
     "output_type": "stream",
     "text": [
      "size_of_course\n",
      "896     896\n",
      "3320    513\n",
      "3123    454\n",
      "1845    254\n",
      "245     245\n",
      "1323    179\n",
      "421      76\n",
      "388      70\n",
      "455      68\n",
      "396      59\n",
      "317      59\n",
      "208      36\n",
      "139      24\n",
      "92       14\n",
      "97       14\n",
      "45        8\n",
      "62        8\n",
      "42        7\n",
      "24        3\n",
      "21        3\n",
      "3         1\n",
      "Name: size_of_course, dtype: int64\n",
      "num_courses_for_student\n",
      "1     1392\n",
      "2      796\n",
      "3      459\n",
      "4      179\n",
      "5       94\n",
      "6       38\n",
      "7       30\n",
      "10       3\n",
      "Name: num_courses_for_student, dtype: int64\n",
      "sum_of_scores\n",
      "0.0       1767\n",
      "100.0       57\n",
      "1224.0      24\n",
      "50.0        18\n",
      "300.0       16\n",
      "          ... \n",
      "361.0        1\n",
      "164.0        1\n",
      "879.0        1\n",
      "197.0        1\n",
      "1174.0       1\n",
      "Name: sum_of_scores, Length: 835, dtype: int64\n",
      "invite_only_course\n",
      "0    2772\n",
      "1     219\n",
      "Name: invite_only_course, dtype: int64\n",
      "num_tasks\n",
      "0.0     1557\n",
      "1.0      313\n",
      "6.0      209\n",
      "5.0      171\n",
      "2.0      141\n",
      "        ... \n",
      "65.0       1\n",
      "41.0       1\n",
      "60.0       1\n",
      "45.0       1\n",
      "48.0       1\n",
      "Name: num_tasks, Length: 64, dtype: int64\n",
      "repository_last_activity_na\n",
      "1.0    2913\n",
      "0.0      78\n",
      "Name: repository_last_activity_na, dtype: int64\n",
      "repository_na\n",
      "1.0    2704\n",
      "0.0     287\n",
      "Name: repository_na, dtype: int64\n",
      "has_mentor\n",
      "0.0    2524\n",
      "1.0     467\n",
      "Name: has_mentor, dtype: int64\n",
      "has_education_history\n",
      "0.0    2001\n",
      "1.0     990\n",
      "Name: has_education_history, dtype: int64\n",
      "english_level_a0\n",
      "0    2880\n",
      "1     111\n",
      "Name: english_level_a0, dtype: int64\n",
      "english_level_a1\n",
      "0    2742\n",
      "1     249\n",
      "Name: english_level_a1, dtype: int64\n",
      "english_level_a2\n",
      "0    2454\n",
      "1     537\n",
      "Name: english_level_a2, dtype: int64\n",
      "english_level_b1\n",
      "0    2605\n",
      "1     386\n",
      "Name: english_level_b1, dtype: int64\n",
      "english_level_b2\n",
      "0    2839\n",
      "1     152\n",
      "Name: english_level_b2, dtype: int64\n",
      "english_level_c1\n",
      "0    2947\n",
      "1      44\n",
      "Name: english_level_c1, dtype: int64\n",
      "english_level_c2\n",
      "0    2986\n",
      "1       5\n",
      "Name: english_level_c2, dtype: int64\n",
      "english_level_isna\n",
      "1    1507\n",
      "0    1484\n",
      "Name: english_level_isna, dtype: int64\n",
      "grad_year_group_grad_year_0\n",
      "0    2836\n",
      "1     155\n",
      "Name: grad_year_group_grad_year_0, dtype: int64\n",
      "grad_year_group_grad_year_1\n",
      "0    2818\n",
      "1     173\n",
      "Name: grad_year_group_grad_year_1, dtype: int64\n",
      "grad_year_group_grad_year_2\n",
      "0    2879\n",
      "1     112\n",
      "Name: grad_year_group_grad_year_2, dtype: int64\n",
      "grad_year_group_grad_year_3\n",
      "0    2793\n",
      "1     198\n",
      "Name: grad_year_group_grad_year_3, dtype: int64\n",
      "grad_year_group_grad_year_4\n",
      "0    2900\n",
      "1      91\n",
      "Name: grad_year_group_grad_year_4, dtype: int64\n",
      "grad_year_group_grad_year_na\n",
      "1    2262\n",
      "0     729\n",
      "Name: grad_year_group_grad_year_na, dtype: int64\n",
      "days_from_update_updated_days_1\n",
      "0    2313\n",
      "1     678\n",
      "Name: days_from_update_updated_days_1, dtype: int64\n",
      "days_from_update_updated_days_2\n",
      "1    1613\n",
      "0    1378\n",
      "Name: days_from_update_updated_days_2, dtype: int64\n",
      "days_from_update_updated_days_3\n",
      "0    2291\n",
      "1     700\n",
      "Name: days_from_update_updated_days_3, dtype: int64\n"
     ]
    }
   ],
   "source": [
    "for column in features_test.columns:\n",
    "    print(column)\n",
    "    print(features_test[column].value_counts())"
   ]
  },
  {
   "cell_type": "code",
   "execution_count": 60,
   "id": "forced-pharmaceutical",
   "metadata": {},
   "outputs": [
    {
     "data": {
      "text/plain": [
       "False    7892\n",
       "True     2579\n",
       "Name: isTopPerformer, dtype: int64"
      ]
     },
     "execution_count": 60,
     "metadata": {},
     "output_type": "execute_result"
    }
   ],
   "source": [
    "train_data['isTopPerformer'].value_counts()"
   ]
  },
  {
   "cell_type": "code",
   "execution_count": 61,
   "id": "impressed-apache",
   "metadata": {},
   "outputs": [
    {
     "data": {
      "text/plain": [
       "(10471,)"
      ]
     },
     "execution_count": 61,
     "metadata": {},
     "output_type": "execute_result"
    }
   ],
   "source": [
    "y = get_target(train_data)\n",
    "y.shape"
   ]
  },
  {
   "cell_type": "code",
   "execution_count": 62,
   "id": "extensive-tunisia",
   "metadata": {},
   "outputs": [
    {
     "data": {
      "text/plain": [
       "Index(['size_of_course', 'num_courses_for_student', 'sum_of_scores',\n",
       "       'invite_only_course', 'num_tasks', 'repository_last_activity_na',\n",
       "       'repository_na', 'has_mentor', 'has_education_history',\n",
       "       'english_level_a0', 'english_level_a1', 'english_level_a2',\n",
       "       'english_level_b1', 'english_level_b2', 'english_level_c1',\n",
       "       'english_level_c2', 'english_level_isna', 'grad_year_group_grad_year_0',\n",
       "       'grad_year_group_grad_year_1', 'grad_year_group_grad_year_2',\n",
       "       'grad_year_group_grad_year_3', 'grad_year_group_grad_year_4',\n",
       "       'grad_year_group_grad_year_na', 'days_from_update_updated_days_1',\n",
       "       'days_from_update_updated_days_2', 'days_from_update_updated_days_3'],\n",
       "      dtype='object')"
      ]
     },
     "execution_count": 62,
     "metadata": {},
     "output_type": "execute_result"
    }
   ],
   "source": [
    "features_train.columns"
   ]
  },
  {
   "cell_type": "code",
   "execution_count": 63,
   "id": "stunning-stereo",
   "metadata": {},
   "outputs": [],
   "source": [
    "# grid = sns.pairplot(pd.concat([features_train[['size_of_course', 'num_courses_for_student']], train_data['isTopPerformer'].astype(float)], axis=1), hue='isTopPerformer')\n",
    "# grid.fig.set_size_inches(12, 6)"
   ]
  },
  {
   "cell_type": "code",
   "execution_count": 64,
   "id": "motivated-packet",
   "metadata": {},
   "outputs": [
    {
     "data": {
      "image/png": "[encoded data removed]",
      "text/plain": [
       "<Figure size 864x432 with 30 Axes>"
      ]
     },
     "metadata": {
      "needs_background": "light"
     },
     "output_type": "display_data"
    }
   ],
   "source": [
    "grid = sns.pairplot(pd.concat([features_train[features_train.columns[:5]], train_data['isTopPerformer'].astype(float)], axis=1), hue='isTopPerformer')\n",
    "grid.fig.set_size_inches(12, 6)"
   ]
  },
  {
   "cell_type": "code",
   "execution_count": 65,
   "id": "delayed-claim",
   "metadata": {},
   "outputs": [],
   "source": [
    "# grid = sns.pairplot(pd.concat([features_train[features_train.columns[5:11]], train_data['isTopPerformer'].astype(float)], axis=1), hue='isTopPerformer')\n",
    "# grid.fig.set_size_inches(12, 6)"
   ]
  },
  {
   "cell_type": "code",
   "execution_count": 66,
   "id": "durable-charleston",
   "metadata": {},
   "outputs": [],
   "source": [
    "# grid = sns.pairplot(pd.concat([features_train[features_train.columns[11:16]], train_data['isTopPerformer'].astype(float)], axis=1), hue='isTopPerformer')\n",
    "# grid.fig.set_size_inches(12, 6)"
   ]
  },
  {
   "cell_type": "code",
   "execution_count": 67,
   "id": "missing-classic",
   "metadata": {},
   "outputs": [
    {
     "data": {
      "text/plain": [
       "(10471, 26)"
      ]
     },
     "execution_count": 67,
     "metadata": {},
     "output_type": "execute_result"
    }
   ],
   "source": [
    "X = features_train.values\n",
    "X_test_final = features_test.values\n",
    "X.shape"
   ]
  },
  {
   "cell_type": "code",
   "execution_count": 68,
   "id": "cordless-weekend",
   "metadata": {},
   "outputs": [
    {
     "data": {
      "text/plain": [
       "(9470, 26, 3157, 26, 3157, 26)"
      ]
     },
     "execution_count": 68,
     "metadata": {},
     "output_type": "execute_result"
    }
   ],
   "source": [
    "# X_train, X_val, y_train, y_val = train_test_split(X, y, test_size=0.3, random_state=42)\n",
    "# X_train.shape + X_val.shape\n",
    "\n",
    "ros = RandomOverSampler(random_state=111)\n",
    "X_resampled, y_resampled = ros.fit_resample(X, y)\n",
    "\n",
    "\n",
    "# let's use train_test_split twice - first 0.4 of original dataset to test+val, then half of test to validation part\n",
    "X_train, X_test, y_train, y_test = train_test_split(X_resampled, y_resampled, test_size=0.4, random_state=123)\n",
    "X_test, X_val, y_test, y_val = train_test_split(X_test, y_test, test_size=0.5, random_state=124)\n",
    "\n",
    "X_train_and_test = np.vstack((X_train, X_test))\n",
    "y_train_and_test = np.hstack((y_train, y_test))\n",
    "\n",
    "X_train.shape + X_test.shape + X_val.shape"
   ]
  },
  {
   "cell_type": "code",
   "execution_count": 69,
   "id": "prostate-atlanta",
   "metadata": {},
   "outputs": [],
   "source": [
    "\n",
    "#X_train, X_val, y_train, y_val = train_test_split(X_resampled, y_resampled, test_size=0.4)\n",
    "#X_train.shape + X_val.shape"
   ]
  },
  {
   "cell_type": "code",
   "execution_count": 70,
   "id": "adequate-novel",
   "metadata": {},
   "outputs": [],
   "source": [
    "# f1_scores_train = []\n",
    "# f1_scores_test = []\n",
    "# oob_scores = []\n",
    "\n",
    "# #X_train_data, X_test_data, y_train_data, y_test_data = train_test_split(X_train, y_train, test_size=0.3)\n",
    "\n",
    "# for n_trees in range(35, 101):\n",
    "#     model = RandomForestClassifier(n_estimators = n_trees, oob_score=True, class_weight='balanced', ccp_alpha=0.01)\n",
    "#     model.fit(X_train, y_train)\n",
    "#     f1_scores_train.append(f1_score(y_train, model.predict(X_train)))\n",
    "#     f1_scores_test.append(f1_score(y_test, model.predict(X_test)))\n",
    "#     oob_scores.append(model.oob_score_)"
   ]
  },
  {
   "cell_type": "code",
   "execution_count": 71,
   "id": "strategic-assurance",
   "metadata": {
    "scrolled": true
   },
   "outputs": [],
   "source": [
    "# fig, ax = plt.subplots(figsize=(8, 4))\n",
    "# plt.plot(range(35, 101), f1_scores_train, color='red', label='f1 score train')\n",
    "# plt.plot(range(35, 101), f1_scores_test, color='blue', label='f1 score test')\n",
    "# plt.plot(range(35, 101), oob_scores, color='green', label='oob score');\n",
    "# plt.legend()\n",
    "# plt.title('Score from num trees')"
   ]
  },
  {
   "cell_type": "code",
   "execution_count": 72,
   "id": "micro-kansas",
   "metadata": {},
   "outputs": [],
   "source": [
    "# f1_scores_train = []\n",
    "# f1_scores_test = []\n",
    "# oob_scores = []\n",
    "\n",
    "# # let's fix num of trees equal to 100\n",
    "# for depth in range(1, 31):\n",
    "#     model = RandomForestClassifier(n_estimators = 100, max_depth=depth, oob_score=True, class_weight='balanced', ccp_alpha=0.01)\n",
    "#     model.fit(X_train, y_train)\n",
    "#     f1_scores_train.append(f1_score(y_train, model.predict(X_train)))\n",
    "#     f1_scores_test.append(f1_score(y_test, model.predict(X_test)))\n",
    "#     oob_scores.append(model.oob_score_)"
   ]
  },
  {
   "cell_type": "code",
   "execution_count": 73,
   "id": "equivalent-healing",
   "metadata": {
    "scrolled": true
   },
   "outputs": [],
   "source": [
    "# fig, ax = plt.subplots(figsize=(8, 4))\n",
    "# plt.plot(range(1, 31), f1_scores_train, color='red', label='f1 score train')\n",
    "# plt.plot(range(1, 31), f1_scores_test, color='blue', label='f1 score test')\n",
    "# plt.plot(range(1, 31), oob_scores, color='green', label='oob score')\n",
    "# plt.legend()\n",
    "# plt.title('Score from max depth')"
   ]
  },
  {
   "cell_type": "code",
   "execution_count": 74,
   "id": "split-royal",
   "metadata": {},
   "outputs": [],
   "source": [
    "# # let's limit depth to 5 and repeat seach for num of trees\n",
    "\n",
    "# f1_scores_train = []\n",
    "# f1_scores_test = []\n",
    "# oob_scores = []\n",
    "\n",
    "# for features in range(1, X_train.shape[1] + 1):\n",
    "#     model = RandomForestClassifier(n_estimators = 100, max_depth = 5, max_features = features, class_weight='balanced', ccp_alpha=0.01, oob_score=True)\n",
    "#     model.fit(X_train, y_train)\n",
    "#     f1_scores_train.append(f1_score(y_train, model.predict(X_train)))\n",
    "#     f1_scores_test.append(f1_score(y_test, model.predict(X_test)))\n",
    "#     oob_scores.append(model.oob_score_)"
   ]
  },
  {
   "cell_type": "code",
   "execution_count": 75,
   "id": "ethical-impossible",
   "metadata": {
    "scrolled": true
   },
   "outputs": [],
   "source": [
    "# fig, ax = plt.subplots(figsize=(8, 4))\n",
    "# plt.plot(range(1, X_train.shape[1] + 1), f1_scores_train, color='red', label='f1 score train')\n",
    "# plt.plot(range(1, X_train.shape[1] + 1), f1_scores_test, color='blue', label='f1 score test')\n",
    "# plt.plot(range(1, X_train.shape[1] + 1), oob_scores, color='green', label='oob score')\n",
    "# plt.legend()\n",
    "# plt.title('Score from max features')"
   ]
  },
  {
   "cell_type": "code",
   "execution_count": 76,
   "id": "useful-harrison",
   "metadata": {},
   "outputs": [],
   "source": [
    "# f1_scores_train = []\n",
    "# f1_scores_test = []\n",
    "# oob_scores = []\n",
    "\n",
    "# for ccp in np.linspace(0.0001, 0.01, 100):\n",
    "#     model = RandomForestClassifier(n_estimators = 100, max_depth = 5, max_features = 5, class_weight='balanced', ccp_alpha=ccp, oob_score=True)\n",
    "#     model.fit(X_train, y_train)\n",
    "#     f1_scores_train.append(f1_score(y_train, model.predict(X_train)))\n",
    "#     f1_scores_test.append(f1_score(y_test, model.predict(X_test)))\n",
    "#     oob_scores.append(model.oob_score_)"
   ]
  },
  {
   "cell_type": "code",
   "execution_count": 77,
   "id": "third-alias",
   "metadata": {},
   "outputs": [],
   "source": [
    "# fig, ax = plt.subplots(figsize=(8, 4))\n",
    "# plt.plot(np.linspace(0.0001, 0.01, 100), f1_scores_train, color='red', label='f1 score train')\n",
    "# plt.plot(np.linspace(0.0001, 0.01, 100), f1_scores_test, color='blue', label='f1 score test')\n",
    "# plt.plot(np.linspace(0.0001, 0.01, 100), oob_scores, color='green', label='oob score')\n",
    "# plt.legend()\n",
    "# plt.title('Score from ccp_alpha')"
   ]
  },
  {
   "cell_type": "code",
   "execution_count": 78,
   "id": "secondary-studio",
   "metadata": {},
   "outputs": [],
   "source": [
    "# let's fix ccp_alpha = 0.01"
   ]
  },
  {
   "cell_type": "code",
   "execution_count": 79,
   "id": "later-springfield",
   "metadata": {},
   "outputs": [],
   "source": [
    "# final_model = RandomForestClassifier(n_estimators = 100, max_depth = 5, max_features = 5, class_weight='balanced', ccp_alpha=0.01, oob_score=True, random_state=42)\n",
    "# final_model.fit(X_train_and_test, y_train_and_test)\n",
    "\n",
    "# y_pred_train_and_test = final_model.predict(X_train_and_test)\n",
    "# y_pred_val = final_model.predict(X_val)\n",
    "\n",
    "# print(f1_score(y_train_and_test, y_pred_train_and_test))\n",
    "# print(f1_score(y_val, y_pred_val))\n",
    "# print(final_model.oob_score_)"
   ]
  },
  {
   "cell_type": "code",
   "execution_count": 80,
   "id": "altered-activity",
   "metadata": {},
   "outputs": [],
   "source": [
    "# y_pred_train = final_model.predict(X_train)\n",
    "# y_pred_test = final_model.predict(X_test)\n",
    "# y_pred_val = final_model.predict(X_val)"
   ]
  },
  {
   "cell_type": "code",
   "execution_count": 81,
   "id": "greek-minnesota",
   "metadata": {},
   "outputs": [],
   "source": [
    "# print(np.unique(y_pred_train, return_counts=True))\n",
    "# print(np.unique(y_pred_test, return_counts=True))\n",
    "# print(np.unique(y_pred_val, return_counts=True))"
   ]
  },
  {
   "cell_type": "code",
   "execution_count": 82,
   "id": "combined-seven",
   "metadata": {},
   "outputs": [],
   "source": [
    "# # completely all data\n",
    "# final_model = RandomForestClassifier(n_estimators = 100, max_depth = 5, max_features = 5, class_weight='balanced', ccp_alpha=0.01, oob_score=True, random_state=42)\n",
    "# final_model.fit(X, y)\n",
    "\n",
    "# y_pred = final_model.predict(X)\n",
    "\n",
    "# print(f1_score(y, y_pred))\n",
    "# print(final_model.oob_score_)\n",
    "# print(np.unique(y_pred, return_counts=True))"
   ]
  },
  {
   "cell_type": "code",
   "execution_count": 149,
   "id": "established-wyoming",
   "metadata": {},
   "outputs": [
    {
     "name": "stderr",
     "output_type": "stream",
     "text": [
      "C:\\Users\\Mi\\anaconda3\\lib\\site-packages\\sklearn\\model_selection\\_search.py:918: UserWarning: One or more of the test scores are non-finite: [       nan        nan        nan 0.95669098 0.95751584 0.95711466\n",
      " 0.95823608 0.95794425        nan 0.95771339        nan        nan\n",
      " 0.95607284 0.95859475 0.95846346 0.96070639        nan 0.95501271\n",
      "        nan        nan        nan        nan        nan        nan\n",
      "        nan 0.95856823        nan 0.95853917 0.95050457        nan\n",
      " 0.95906037 0.95833027        nan        nan 0.95852139        nan\n",
      " 0.95257284        nan        nan 0.95579914        nan        nan\n",
      "        nan 0.95803382        nan 0.95433789 0.94694887 0.9588917\n",
      " 0.95843577 0.95793269]\n",
      "  warnings.warn(\n",
      "C:\\Users\\Mi\\anaconda3\\lib\\site-packages\\sklearn\\linear_model\\_logistic.py:763: ConvergenceWarning: lbfgs failed to converge (status=1):\n",
      "STOP: TOTAL NO. of ITERATIONS REACHED LIMIT.\n",
      "\n",
      "Increase the number of iterations (max_iter) or scale the data as shown in:\n",
      "    https://scikit-learn.org/stable/modules/preprocessing.html\n",
      "Please also refer to the documentation for alternative solver options:\n",
      "    https://scikit-learn.org/stable/modules/linear_model.html#logistic-regression\n",
      "  n_iter_i = _check_optimize_result(\n"
     ]
    }
   ],
   "source": [
    "rf_grid_params = dict(clf__n_estimators=np.arange(1, 201, 1),\n",
    "                      clf__criterion=['entropy', 'gini'],\n",
    "                      clf__max_features=['auto', 'sqrt', 'log2'],\n",
    "                      clf__max_depth=list(np.arange(1, 10)),\n",
    "                      clf__ccp_alpha=np.linspace(0.001, 0.1, 100))\n",
    "\n",
    "knn_grid_params = dict(clf__n_neighbors=np.arange(1, 21, 1))\n",
    "\n",
    "logreg_grid_params = dict(clf__penalty=['l1', 'l2'],\n",
    "                          clf__C=np.linspace(0.01, 2, 100))\n",
    "\n",
    "#rskf = RepeatedStratifiedKFold(n_splits=5, n_repeats=3)\n",
    "\n",
    "rf_model = RandomForestClassifier(n_estimators=150, max_features='sqrt', max_depth=9, criterion='gini', ccp_alpha=0.002)\n",
    "knn_model = KNeighborsClassifier()\n",
    "logreg_model = LogisticRegression()\n",
    "\n",
    "pipeline = Pipeline([('poly', PolynomialFeatures(interaction_only=True, degree=3)),\n",
    "                     ('scaler', StandardScaler()),\n",
    "                     ('select', SelectFromModel(rf_model)),\n",
    "                     ('clf', logreg_model)])\n",
    "\n",
    "model_search = RandomizedSearchCV(pipeline, logreg_grid_params, scoring='f1', n_iter=50, n_jobs=-1, refit=True, cv=5)\n",
    "model_search.fit(X_train_and_test, y_train_and_test)\n",
    "\n",
    "\n",
    "# y_pred_train = model_search.predict(X_train)\n",
    "y_pred_val = model_search.predict(X_val)\n",
    "# y_pred_test = model_search.predict(X_test)"
   ]
  },
  {
   "cell_type": "code",
   "execution_count": 150,
   "id": "vocal-society",
   "metadata": {},
   "outputs": [
    {
     "data": {
      "text/plain": [
       "{'clf__penalty': 'l2', 'clf__C': 1.778888888888889}"
      ]
     },
     "execution_count": 150,
     "metadata": {},
     "output_type": "execute_result"
    }
   ],
   "source": [
    "model_search.best_params_"
   ]
  },
  {
   "cell_type": "code",
   "execution_count": 151,
   "id": "administrative-binding",
   "metadata": {},
   "outputs": [],
   "source": [
    "# f1_score(y_train, y_pred_train)"
   ]
  },
  {
   "cell_type": "code",
   "execution_count": 152,
   "id": "pursuant-motion",
   "metadata": {},
   "outputs": [
    {
     "data": {
      "text/plain": [
       "0.9576753000631711"
      ]
     },
     "execution_count": 152,
     "metadata": {},
     "output_type": "execute_result"
    }
   ],
   "source": [
    "f1_score(y_val, y_pred_val)"
   ]
  },
  {
   "cell_type": "code",
   "execution_count": 153,
   "id": "computational-attempt",
   "metadata": {},
   "outputs": [],
   "source": [
    "# y_pred_train = final_model.predict(X_train)\n",
    "# y_pred_test = final_model.predict(X_test)\n",
    "# y_pred_val = final_model.predict(X_val)"
   ]
  },
  {
   "cell_type": "code",
   "execution_count": 154,
   "id": "civilian-kingston",
   "metadata": {},
   "outputs": [],
   "source": [
    "# np.unique(y_pred, return_counts=True)"
   ]
  },
  {
   "cell_type": "code",
   "execution_count": 155,
   "id": "floral-closer",
   "metadata": {},
   "outputs": [],
   "source": [
    "# np.unique(y_pred_val, return_counts=True)"
   ]
  },
  {
   "cell_type": "code",
   "execution_count": 156,
   "id": "medieval-robert",
   "metadata": {},
   "outputs": [],
   "source": [
    "# np.unique(y_pred_test, return_counts=True)"
   ]
  },
  {
   "cell_type": "code",
   "execution_count": 157,
   "id": "organizational-working",
   "metadata": {
    "scrolled": true
   },
   "outputs": [],
   "source": [
    "# def plot_one_tree(model):\n",
    "#     fig, axes = plt.subplots(nrows = 1, ncols = 1, figsize = (50, 30))\n",
    "#     tree.plot_tree(model,\n",
    "#                feature_names = features_train.columns, \n",
    "#                class_names=['0', '1'],\n",
    "#                filled = True);\n",
    "\n",
    "# plot_one_tree(model_search.best_estimator_['clf'][0])"
   ]
  },
  {
   "cell_type": "code",
   "execution_count": 158,
   "id": "western-weather",
   "metadata": {},
   "outputs": [
    {
     "data": {
      "text/plain": [
       "<sklearn.metrics._plot.confusion_matrix.ConfusionMatrixDisplay at 0x24d9585e700>"
      ]
     },
     "execution_count": 158,
     "metadata": {},
     "output_type": "execute_result"
    },
    {
     "data": {
      "image/png": "[encoded data removed]",
      "text/plain": [
       "<Figure size 432x288 with 2 Axes>"
      ]
     },
     "metadata": {
      "needs_background": "light"
     },
     "output_type": "display_data"
    }
   ],
   "source": [
    "plot_confusion_matrix(model_search.best_estimator_, X, y)"
   ]
  },
  {
   "cell_type": "code",
   "execution_count": 159,
   "id": "bigger-separation",
   "metadata": {},
   "outputs": [],
   "source": [
    "#features_train.columns[model_search.best_estimator_['select'].get_support()]"
   ]
  },
  {
   "cell_type": "code",
   "execution_count": 160,
   "id": "thorough-fifth",
   "metadata": {},
   "outputs": [],
   "source": [
    "y_test_final = model_search.best_estimator_.predict(X_test_final)\n",
    "pd.DataFrame(data=y_test_final.astype(bool), index=test_data.index, columns=['isTopPerformer']).to_csv('final_rss_30.csv')"
   ]
  },
  {
   "cell_type": "code",
   "execution_count": 161,
   "id": "induced-irrigation",
   "metadata": {},
   "outputs": [
    {
     "data": {
      "text/plain": [
       "(array([0., 1.]), array([2482,  509], dtype=int64))"
      ]
     },
     "execution_count": 161,
     "metadata": {},
     "output_type": "execute_result"
    }
   ],
   "source": [
    "np.unique(y_test_final, return_counts=True)"
   ]
  },
  {
   "cell_type": "code",
   "execution_count": null,
   "id": "efficient-little",
   "metadata": {},
   "outputs": [],
   "source": []
  }
 ],
 "metadata": {
  "kernelspec": {
   "display_name": "Python 3",
   "language": "python",
   "name": "python3"
  },
  "language_info": {
   "codemirror_mode": {
    "name": "ipython",
    "version": 3
   },
   "file_extension": ".py",
   "mimetype": "text/x-python",
   "name": "python",
   "nbconvert_exporter": "python",
   "pygments_lexer": "ipython3",
   "version": "3.8.8"
  }
 },
 "nbformat": 4,
 "nbformat_minor": 5
}
